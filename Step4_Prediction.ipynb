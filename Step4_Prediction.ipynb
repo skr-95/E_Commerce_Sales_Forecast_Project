{
 "cells": [
  {
   "cell_type": "markdown",
   "metadata": {
    "collapsed": true
   },
   "source": [
    "# Step4: Prediction"
   ]
  },
  {
   "cell_type": "markdown",
   "metadata": {},
   "source": [
    "## 4.1 在测试集中进行预测\n",
    "我们通过同样的过程对测试集中用户进行分组, 并运用训练好的Voting模型对模型进行预测"
   ]
  },
  {
   "cell_type": "code",
   "execution_count": 1,
   "metadata": {},
   "outputs": [],
   "source": [
    "# 导入相关包\n",
    "from lib.feature_engineer import *\n",
    "import pandas as pd\n",
    "from joblib import load \n",
    "from sklearn.metrics import accuracy_score"
   ]
  },
  {
   "cell_type": "code",
   "execution_count": 2,
   "metadata": {},
   "outputs": [],
   "source": [
    "# 导入相关数据\n",
    "test_set = pd.read_csv('./temp/test_set.csv')"
   ]
  },
  {
   "cell_type": "code",
   "execution_count": 3,
   "metadata": {
    "scrolled": true
   },
   "outputs": [
    {
     "data": {
      "text/html": [
       "<div>\n",
       "<style scoped>\n",
       "    .dataframe tbody tr th:only-of-type {\n",
       "        vertical-align: middle;\n",
       "    }\n",
       "\n",
       "    .dataframe tbody tr th {\n",
       "        vertical-align: top;\n",
       "    }\n",
       "\n",
       "    .dataframe thead th {\n",
       "        text-align: right;\n",
       "    }\n",
       "</style>\n",
       "<table border=\"1\" class=\"dataframe\">\n",
       "  <thead>\n",
       "    <tr style=\"text-align: right;\">\n",
       "      <th></th>\n",
       "      <th>6</th>\n",
       "      <th>1</th>\n",
       "      <th>9</th>\n",
       "      <th>8</th>\n",
       "      <th>0</th>\n",
       "      <th>4</th>\n",
       "      <th>5</th>\n",
       "      <th>2</th>\n",
       "      <th>10</th>\n",
       "      <th>3</th>\n",
       "      <th>7</th>\n",
       "    </tr>\n",
       "  </thead>\n",
       "  <tbody>\n",
       "    <tr>\n",
       "      <th>客户人数</th>\n",
       "      <td>1014</td>\n",
       "      <td>300</td>\n",
       "      <td>275</td>\n",
       "      <td>223</td>\n",
       "      <td>223</td>\n",
       "      <td>218</td>\n",
       "      <td>145</td>\n",
       "      <td>124</td>\n",
       "      <td>10</td>\n",
       "      <td>4</td>\n",
       "      <td>3</td>\n",
       "    </tr>\n",
       "  </tbody>\n",
       "</table>\n",
       "</div>"
      ],
      "text/plain": [
       "        6    1    9    8    0    4    5    2   10  3   7 \n",
       "客户人数  1014  300  275  223  223  218  145  124  10   4   3"
      ]
     },
     "metadata": {},
     "output_type": "display_data"
    }
   ],
   "source": [
    "# 把test数据label化\n",
    "df_test = feature_engineer(test_set, 5)"
   ]
  },
  {
   "cell_type": "code",
   "execution_count": 44,
   "metadata": {},
   "outputs": [],
   "source": [
    "X_test = df_test.iloc[:,1:7]\n",
    "Y_test = df_test.iloc[:, 7].values"
   ]
  },
  {
   "cell_type": "code",
   "execution_count": 45,
   "metadata": {},
   "outputs": [],
   "source": [
    "# 导入模型\n",
    "clf = load(\"./temp/votingC_model.joblib\")"
   ]
  },
  {
   "cell_type": "code",
   "execution_count": 46,
   "metadata": {},
   "outputs": [],
   "source": [
    "# 用模型进行预测\n",
    "Y_pred = clf.predict(X_test)"
   ]
  },
  {
   "cell_type": "code",
   "execution_count": 48,
   "metadata": {
    "scrolled": true
   },
   "outputs": [
    {
     "name": "stdout",
     "output_type": "stream",
     "text": [
      "正确率: 83.77 %\n"
     ]
    }
   ],
   "source": [
    "# 打印预测集中结果\n",
    "print(\"正确率: {:.2f} %\".format(100 * accuracy_score(Y_test, Y_pred)))"
   ]
  },
  {
   "cell_type": "markdown",
   "metadata": {},
   "source": [
    "在完全没有接触过的训练集中，我们得到了83.77%预测正确率，这意味着我们可以有80%的把握根据用户第一笔订单来预测对正确的所属组，接下来我们对这个指标进行实际分析。"
   ]
  },
  {
   "cell_type": "markdown",
   "metadata": {},
   "source": [
    "## 4.2 对企业经济效益进行评估\n",
    "如在Step2中，我们对每个组的特征进行了汇总。可以看到平均订单数量最小为1.16，组别是3，其次最小为1.9，组别是5，这两个组别是重点提高对象。再者就是小于2.5的，组别是1、4、8。根据我们现在预测集中预测的结果。我们发现了2539人中发现了182人复购可能性很小，"
   ]
  },
  {
   "cell_type": "code",
   "execution_count": 64,
   "metadata": {},
   "outputs": [
    {
     "name": "stdout",
     "output_type": "stream",
     "text": [
      "复购可能性极小的人数：4\n",
      "复购可能性很小的人数：178\n",
      "可能复购但可以观察的人数：199\n"
     ]
    }
   ],
   "source": [
    "target_group_no = [3]\n",
    "print(\"复购可能性极小的人数：{}\".format(sum([i in target_group_no for i in Y_pred])))\n",
    "target_group_no = [5]\n",
    "print(\"复购可能性很小的人数：{}\".format(sum([i in target_group_no for i in Y_pred])))\n",
    "target_group_no = [1,4,8]\n",
    "print(\"可能复购但可以观察的人数：{}\".format(sum([i in target_group_no for i in Y_pred])))"
   ]
  },
  {
   "cell_type": "markdown",
   "metadata": {},
   "source": [
    "### 4.2.1 销售额提升\n",
    "如果我们采取针对性的促销手段，例如针对这些客户专门发邮件提供再次购买优惠券等。并分别以10%、30%、50%、70%的比例提升用户复购率。将会产生如下收益："
   ]
  },
  {
   "cell_type": "code",
   "execution_count": 100,
   "metadata": {},
   "outputs": [
    {
     "data": {
      "text/plain": [
       "395422.22000000003"
      ]
     },
     "execution_count": 100,
     "metadata": {},
     "output_type": "execute_result"
    }
   ],
   "source": [
    "import numpy as np"
   ]
  },
  {
   "cell_type": "code",
   "execution_count": 130,
   "metadata": {},
   "outputs": [],
   "source": [
    "group_mean = [224.38,263.55,233.74,249.21,248.46,328.93,1138.73,4810.17,463.07,362.168,2564.43]\n",
    "group_id = [4,9,1,8,0,6,5,3,2,7,10]\n",
    "group_improve = [3,5,1,4,8]\n",
    "rate = [0.1, 0.3, 0.5, 0.7]"
   ]
  },
  {
   "cell_type": "code",
   "execution_count": 85,
   "metadata": {},
   "outputs": [],
   "source": [
    "group_info = pd.DataFrame(group_mean, group_id).rename(columns={0:\"mean\"})"
   ]
  },
  {
   "cell_type": "code",
   "execution_count": 97,
   "metadata": {},
   "outputs": [],
   "source": [
    "group_info.loc[:, \"num\"] = ([sum([k == i for k in Y_pred]) for i in group_info.index])"
   ]
  },
  {
   "cell_type": "code",
   "execution_count": 127,
   "metadata": {},
   "outputs": [],
   "source": [
    "group_arr = group_info.values\n",
    "improve_arr = group_info.loc[group_improve].values"
   ]
  },
  {
   "cell_type": "code",
   "execution_count": 129,
   "metadata": {},
   "outputs": [],
   "source": [
    "total = np.round(sum(group_arr[:,0]*group_arr[:,1]), 2)\n",
    "improve_total = np.round(sum(improve_arr[:,0]*improve_arr[:,1]), 2)"
   ]
  },
  {
   "cell_type": "code",
   "execution_count": 136,
   "metadata": {
    "scrolled": false
   },
   "outputs": [
    {
     "name": "stdout",
     "output_type": "stream",
     "text": [
      "针对复购指数低的用户，提高了10.0%的转化率，销售额提高了39542.22英镑，增长率为4.35%\n",
      "针对复购指数低的用户，提高了30.0%的转化率，销售额提高了118626.67英镑，增长率为13.04%\n",
      "针对复购指数低的用户，提高了50.0%的转化率，销售额提高了197711.11英镑，增长率为21.74%\n",
      "针对复购指数低的用户，提高了70.0%的转化率，销售额提高了276795.55英镑，增长率为30.43%\n"
     ]
    }
   ],
   "source": [
    "for i in range(len(rate)):\n",
    "    print(\"针对复购指数低的用户，提高了{}%的转化率，销售额提高了{}英镑，增长率为{}%\"\n",
    "          .format(np.round(rate[i]*100,0), np.round(improve_total*rate[i],2), np.round(improve_total*rate[i]/total*100,2)))"
   ]
  },
  {
   "cell_type": "markdown",
   "metadata": {},
   "source": [
    "### 4.2.2 促销成本节约\n",
    "如果按销售的30%为优惠，对比营销上的成本节省"
   ]
  },
  {
   "cell_type": "code",
   "execution_count": 143,
   "metadata": {},
   "outputs": [],
   "source": [
    "group_price = [483.25,743.11,535.3,594.42,671.47,1023.07,2204.41,5403.55,7027.12,33514.7,41911.2]\n",
    "group_id = [4,9,1,8,0,6,5,3,2,7,10]\n",
    "group_improve = [3,5,1,4,8]\n",
    "group_info = pd.DataFrame(group_price, group_id).rename(columns={0:\"price\"})\n",
    "group_info.loc[:, \"num\"] = ([sum([k == i for k in Y_pred]) for i in group_info.index])\n",
    "group_arr = group_info.values\n",
    "improve_arr = group_info.loc[group_improve].values"
   ]
  },
  {
   "cell_type": "code",
   "execution_count": 144,
   "metadata": {},
   "outputs": [],
   "source": [
    "total = np.round(sum(group_arr[:,0]*group_arr[:,1]), 2)\n",
    "improve_total = np.round(sum(improve_arr[:,0]*improve_arr[:,1]), 2)"
   ]
  },
  {
   "cell_type": "code",
   "execution_count": 145,
   "metadata": {},
   "outputs": [],
   "source": [
    "before_promotion = total * 0.3\n",
    "after_promotion = improve_total * 0.3"
   ]
  },
  {
   "cell_type": "code",
   "execution_count": 150,
   "metadata": {},
   "outputs": [
    {
     "name": "stdout",
     "output_type": "stream",
     "text": [
      "没有针对性促销前，促销的总成本为792984.96英镑\n",
      "针对性促销后，促销的总成本为243627.1英镑，减少了69.28%\n"
     ]
    }
   ],
   "source": [
    "print(\"没有针对性促销前，促销的总成本为{}英镑\".format(np.round(before_promotion,2)))\n",
    "print(\"针对性促销后，促销的总成本为{}英镑，减少了{}%\".format(np.round(after_promotion,2)\n",
    "                                        , np.round((before_promotion - after_promotion)/before_promotion *100,2)))"
   ]
  }
 ],
 "metadata": {
  "kernelspec": {
   "display_name": "Python 3",
   "language": "python",
   "name": "python3"
  },
  "language_info": {
   "codemirror_mode": {
    "name": "ipython",
    "version": 3
   },
   "file_extension": ".py",
   "mimetype": "text/x-python",
   "name": "python",
   "nbconvert_exporter": "python",
   "pygments_lexer": "ipython3",
   "version": "3.7.9"
  }
 },
 "nbformat": 4,
 "nbformat_minor": 1
}

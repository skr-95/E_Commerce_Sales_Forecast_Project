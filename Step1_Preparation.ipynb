{
 "cells": [
  {
   "cell_type": "markdown",
   "metadata": {
    "collapsed": true,
    "pycharm": {
     "name": "#%% md\n"
    }
   },
   "source": [
    "# Step 1: Preparation\n",
    "## 1 ETL\n",
    "### 1.1 读取数据"
   ]
  },
  {
   "cell_type": "code",
   "execution_count": 1,
   "metadata": {
    "pycharm": {
     "name": "#%%\n"
    }
   },
   "outputs": [],
   "source": [
    "# 导入modules\n",
    "import pandas as pd\n",
    "import numpy as np\n",
    "import matplotlib.pyplot as plt\n",
    "import seaborn as sns\n",
    "from lib.classification_words import keywords_inventory\n",
    "import os\n",
    "from matplotlib.font_manager import FontProperties\n",
    "font_set = FontProperties(fname=r\"c:\\windows\\fonts\\simsun.ttc\", size=12)"
   ]
  },
  {
   "cell_type": "code",
   "execution_count": 4,
   "metadata": {
    "pycharm": {
     "name": "#%%\n"
    }
   },
   "outputs": [
    {
     "name": "stdout",
     "output_type": "stream",
     "text": [
      "DataFrame Shape:  (541909, 8)\n"
     ]
    }
   ],
   "source": [
    "from IPython.core.display import display\n",
    "os.listdir('./data')\n",
    "df_raw = pd.read_csv('./data/data.csv', encoding='ISO-8859-1', dtype={'CustomerID': str, 'InvoiceID': str})\n",
    "df_raw[\"InvoiceDate\"] = pd.to_datetime(df_raw[\"InvoiceDate\"])\n",
    "\n",
    "print(\"DataFrame Shape: \", df_raw.shape)"
   ]
  },
  {
   "cell_type": "code",
   "execution_count": 5,
   "metadata": {
    "pycharm": {
     "name": "#%%\n"
    }
   },
   "outputs": [
    {
     "data": {
      "text/html": [
       "<div>\n",
       "<style scoped>\n",
       "    .dataframe tbody tr th:only-of-type {\n",
       "        vertical-align: middle;\n",
       "    }\n",
       "\n",
       "    .dataframe tbody tr th {\n",
       "        vertical-align: top;\n",
       "    }\n",
       "\n",
       "    .dataframe thead th {\n",
       "        text-align: right;\n",
       "    }\n",
       "</style>\n",
       "<table border=\"1\" class=\"dataframe\">\n",
       "  <thead>\n",
       "    <tr style=\"text-align: right;\">\n",
       "      <th></th>\n",
       "      <th>InvoiceNo</th>\n",
       "      <th>StockCode</th>\n",
       "      <th>Description</th>\n",
       "      <th>Quantity</th>\n",
       "      <th>InvoiceDate</th>\n",
       "      <th>UnitPrice</th>\n",
       "      <th>CustomerID</th>\n",
       "      <th>Country</th>\n",
       "    </tr>\n",
       "  </thead>\n",
       "  <tbody>\n",
       "    <tr>\n",
       "      <th>0</th>\n",
       "      <td>536365</td>\n",
       "      <td>85123A</td>\n",
       "      <td>WHITE HANGING HEART T-LIGHT HOLDER</td>\n",
       "      <td>6</td>\n",
       "      <td>2010-12-01 08:26:00</td>\n",
       "      <td>2.55</td>\n",
       "      <td>17850</td>\n",
       "      <td>United Kingdom</td>\n",
       "    </tr>\n",
       "    <tr>\n",
       "      <th>1</th>\n",
       "      <td>536365</td>\n",
       "      <td>71053</td>\n",
       "      <td>WHITE METAL LANTERN</td>\n",
       "      <td>6</td>\n",
       "      <td>2010-12-01 08:26:00</td>\n",
       "      <td>3.39</td>\n",
       "      <td>17850</td>\n",
       "      <td>United Kingdom</td>\n",
       "    </tr>\n",
       "    <tr>\n",
       "      <th>2</th>\n",
       "      <td>536365</td>\n",
       "      <td>84406B</td>\n",
       "      <td>CREAM CUPID HEARTS COAT HANGER</td>\n",
       "      <td>8</td>\n",
       "      <td>2010-12-01 08:26:00</td>\n",
       "      <td>2.75</td>\n",
       "      <td>17850</td>\n",
       "      <td>United Kingdom</td>\n",
       "    </tr>\n",
       "    <tr>\n",
       "      <th>3</th>\n",
       "      <td>536365</td>\n",
       "      <td>84029G</td>\n",
       "      <td>KNITTED UNION FLAG HOT WATER BOTTLE</td>\n",
       "      <td>6</td>\n",
       "      <td>2010-12-01 08:26:00</td>\n",
       "      <td>3.39</td>\n",
       "      <td>17850</td>\n",
       "      <td>United Kingdom</td>\n",
       "    </tr>\n",
       "    <tr>\n",
       "      <th>4</th>\n",
       "      <td>536365</td>\n",
       "      <td>84029E</td>\n",
       "      <td>RED WOOLLY HOTTIE WHITE HEART.</td>\n",
       "      <td>6</td>\n",
       "      <td>2010-12-01 08:26:00</td>\n",
       "      <td>3.39</td>\n",
       "      <td>17850</td>\n",
       "      <td>United Kingdom</td>\n",
       "    </tr>\n",
       "  </tbody>\n",
       "</table>\n",
       "</div>"
      ],
      "text/plain": [
       "  InvoiceNo StockCode                          Description  Quantity  \\\n",
       "0    536365    85123A   WHITE HANGING HEART T-LIGHT HOLDER         6   \n",
       "1    536365     71053                  WHITE METAL LANTERN         6   \n",
       "2    536365    84406B       CREAM CUPID HEARTS COAT HANGER         8   \n",
       "3    536365    84029G  KNITTED UNION FLAG HOT WATER BOTTLE         6   \n",
       "4    536365    84029E       RED WOOLLY HOTTIE WHITE HEART.         6   \n",
       "\n",
       "          InvoiceDate  UnitPrice CustomerID         Country  \n",
       "0 2010-12-01 08:26:00       2.55      17850  United Kingdom  \n",
       "1 2010-12-01 08:26:00       3.39      17850  United Kingdom  \n",
       "2 2010-12-01 08:26:00       2.75      17850  United Kingdom  \n",
       "3 2010-12-01 08:26:00       3.39      17850  United Kingdom  \n",
       "4 2010-12-01 08:26:00       3.39      17850  United Kingdom  "
      ]
     },
     "execution_count": 5,
     "metadata": {},
     "output_type": "execute_result"
    }
   ],
   "source": [
    "df_raw.head(5)"
   ]
  },
  {
   "cell_type": "markdown",
   "metadata": {
    "pycharm": {
     "name": "#%% md\n"
    }
   },
   "source": [
    "这里对每个变量做一些解释：\n",
    "*InvoiceNo*: 每一笔订单的单号.\n",
    "*StockCode*: 订单中的一种商品编号\n",
    "*Description*: 对这种商品的描述\n",
    "*Quantity*: 在这一订单中这种商品的数量\n",
    "*InvoiceDate*: 每笔订单的发生时间\n",
    "*UnitPrice*: 该商品的单价\n",
    "*CustomerID*: 购买者的用户ID\n",
    "*Country*: 购买用户的国家"
   ]
  },
  {
   "cell_type": "markdown",
   "metadata": {},
   "source": [
    "### 1.2 数据清洗\n",
    "#### 1.2.1 数据缺失"
   ]
  },
  {
   "cell_type": "code",
   "execution_count": 6,
   "metadata": {
    "pycharm": {
     "name": "#%%\n"
    }
   },
   "outputs": [
    {
     "data": {
      "text/plain": [
       "InvoiceNo           0\n",
       "StockCode           0\n",
       "Description      1454\n",
       "Quantity            0\n",
       "InvoiceDate         0\n",
       "UnitPrice           0\n",
       "CustomerID     135080\n",
       "Country             0\n",
       "dtype: int64"
      ]
     },
     "execution_count": 6,
     "metadata": {},
     "output_type": "execute_result"
    }
   ],
   "source": [
    "# 缺失数据数量统计\n",
    "df_raw.isnull().sum()"
   ]
  },
  {
   "cell_type": "code",
   "execution_count": 7,
   "metadata": {
    "pycharm": {
     "name": "#%%\n"
    }
   },
   "outputs": [
    {
     "data": {
      "text/html": [
       "<div>\n",
       "<style scoped>\n",
       "    .dataframe tbody tr th:only-of-type {\n",
       "        vertical-align: middle;\n",
       "    }\n",
       "\n",
       "    .dataframe tbody tr th {\n",
       "        vertical-align: top;\n",
       "    }\n",
       "\n",
       "    .dataframe thead th {\n",
       "        text-align: right;\n",
       "    }\n",
       "</style>\n",
       "<table border=\"1\" class=\"dataframe\">\n",
       "  <thead>\n",
       "    <tr style=\"text-align: right;\">\n",
       "      <th></th>\n",
       "      <th>0</th>\n",
       "    </tr>\n",
       "  </thead>\n",
       "  <tbody>\n",
       "    <tr>\n",
       "      <th>InvoiceNo</th>\n",
       "      <td>0.000000</td>\n",
       "    </tr>\n",
       "    <tr>\n",
       "      <th>StockCode</th>\n",
       "      <td>0.000000</td>\n",
       "    </tr>\n",
       "    <tr>\n",
       "      <th>Description</th>\n",
       "      <td>0.268311</td>\n",
       "    </tr>\n",
       "    <tr>\n",
       "      <th>Quantity</th>\n",
       "      <td>0.000000</td>\n",
       "    </tr>\n",
       "    <tr>\n",
       "      <th>InvoiceDate</th>\n",
       "      <td>0.000000</td>\n",
       "    </tr>\n",
       "    <tr>\n",
       "      <th>UnitPrice</th>\n",
       "      <td>0.000000</td>\n",
       "    </tr>\n",
       "    <tr>\n",
       "      <th>CustomerID</th>\n",
       "      <td>24.926694</td>\n",
       "    </tr>\n",
       "    <tr>\n",
       "      <th>Country</th>\n",
       "      <td>0.000000</td>\n",
       "    </tr>\n",
       "  </tbody>\n",
       "</table>\n",
       "</div>"
      ],
      "text/plain": [
       "                     0\n",
       "InvoiceNo     0.000000\n",
       "StockCode     0.000000\n",
       "Description   0.268311\n",
       "Quantity      0.000000\n",
       "InvoiceDate   0.000000\n",
       "UnitPrice     0.000000\n",
       "CustomerID   24.926694\n",
       "Country       0.000000"
      ]
     },
     "execution_count": 7,
     "metadata": {},
     "output_type": "execute_result"
    }
   ],
   "source": [
    "# 缺失数据占比\n",
    "pd.DataFrame(df_raw.isnull().sum()) / df_raw.shape[0] * 100"
   ]
  },
  {
   "cell_type": "markdown",
   "metadata": {
    "pycharm": {
     "name": "#%% md\n"
    }
   },
   "source": [
    "Note: 观测到这里缺失的顾客ID信息占比近25%！思考这缺失的原因：可能是在该网站上买东西时不需要强制登陆。但我们可以假设这25%不是由那75%的用户产生的（实际中一般有账号的用户买东西时都会登陆），这样不同的用户之间可以看作是独立的，我们就直接删去这些缺失数据！"
   ]
  },
  {
   "cell_type": "code",
   "execution_count": 8,
   "metadata": {
    "pycharm": {
     "name": "#%%\n"
    }
   },
   "outputs": [],
   "source": [
    "df_raw.dropna(axis=0, inplace=True)"
   ]
  },
  {
   "cell_type": "code",
   "execution_count": 9,
   "metadata": {
    "pycharm": {
     "name": "#%%\n"
    }
   },
   "outputs": [
    {
     "data": {
      "text/plain": [
       "InvoiceNo      0\n",
       "StockCode      0\n",
       "Description    0\n",
       "Quantity       0\n",
       "InvoiceDate    0\n",
       "UnitPrice      0\n",
       "CustomerID     0\n",
       "Country        0\n",
       "dtype: int64"
      ]
     },
     "execution_count": 9,
     "metadata": {},
     "output_type": "execute_result"
    }
   ],
   "source": [
    "df_raw.isnull().sum()"
   ]
  },
  {
   "cell_type": "markdown",
   "metadata": {
    "pycharm": {
     "name": "#%% md\n"
    }
   },
   "source": [
    "删去空的CustomerID的数据后，已经没有空值了。"
   ]
  },
  {
   "cell_type": "markdown",
   "metadata": {
    "pycharm": {
     "name": "#%% md\n"
    }
   },
   "source": [
    "#### 1.2.2 异常数据"
   ]
  },
  {
   "cell_type": "code",
   "execution_count": 10,
   "metadata": {
    "pycharm": {
     "name": "#%%\n"
    }
   },
   "outputs": [
    {
     "data": {
      "text/plain": [
       "576339    542\n",
       "579196    533\n",
       "580727    529\n",
       "578270    442\n",
       "573576    435\n",
       "567656    421\n",
       "567183    399\n",
       "575607    377\n",
       "571441    364\n",
       "570488    353\n",
       "572552    352\n",
       "568346    335\n",
       "547063    294\n",
       "569246    285\n",
       "562031    277\n",
       "554098    264\n",
       "543040    259\n",
       "570672    259\n",
       "569897    239\n",
       "572103    223\n",
       "Name: InvoiceNo, dtype: int64"
      ]
     },
     "execution_count": 10,
     "metadata": {},
     "output_type": "execute_result"
    }
   ],
   "source": [
    "# 先看InvoiceNo\n",
    "df_raw[\"InvoiceNo\"].value_counts().iloc[0:20]"
   ]
  },
  {
   "cell_type": "code",
   "execution_count": 11,
   "metadata": {
    "pycharm": {
     "name": "#%%\n"
    }
   },
   "outputs": [
    {
     "data": {
      "text/plain": [
       "6    397924\n",
       "7      8905\n",
       "Name: InvoiceNo, dtype: int64"
      ]
     },
     "execution_count": 11,
     "metadata": {},
     "output_type": "execute_result"
    }
   ],
   "source": [
    "# 观察InvoiceNo的长度\n",
    "df_raw[\"InvoiceNo\"].apply(lambda l: len(l)).value_counts()\n",
    "# 发现还有7位的，接下来仔细看一下"
   ]
  },
  {
   "cell_type": "code",
   "execution_count": 12,
   "metadata": {
    "pycharm": {
     "name": "#%%\n"
    }
   },
   "outputs": [
    {
     "data": {
      "text/html": [
       "<div>\n",
       "<style scoped>\n",
       "    .dataframe tbody tr th:only-of-type {\n",
       "        vertical-align: middle;\n",
       "    }\n",
       "\n",
       "    .dataframe tbody tr th {\n",
       "        vertical-align: top;\n",
       "    }\n",
       "\n",
       "    .dataframe thead th {\n",
       "        text-align: right;\n",
       "    }\n",
       "</style>\n",
       "<table border=\"1\" class=\"dataframe\">\n",
       "  <thead>\n",
       "    <tr style=\"text-align: right;\">\n",
       "      <th></th>\n",
       "      <th>InvoiceNo</th>\n",
       "      <th>StockCode</th>\n",
       "      <th>Description</th>\n",
       "      <th>Quantity</th>\n",
       "      <th>InvoiceDate</th>\n",
       "      <th>UnitPrice</th>\n",
       "      <th>CustomerID</th>\n",
       "      <th>Country</th>\n",
       "    </tr>\n",
       "  </thead>\n",
       "  <tbody>\n",
       "    <tr>\n",
       "      <th>141</th>\n",
       "      <td>C536379</td>\n",
       "      <td>D</td>\n",
       "      <td>Discount</td>\n",
       "      <td>-1</td>\n",
       "      <td>2010-12-01 09:41:00</td>\n",
       "      <td>27.50</td>\n",
       "      <td>14527</td>\n",
       "      <td>United Kingdom</td>\n",
       "    </tr>\n",
       "    <tr>\n",
       "      <th>154</th>\n",
       "      <td>C536383</td>\n",
       "      <td>35004C</td>\n",
       "      <td>SET OF 3 COLOURED  FLYING DUCKS</td>\n",
       "      <td>-1</td>\n",
       "      <td>2010-12-01 09:49:00</td>\n",
       "      <td>4.65</td>\n",
       "      <td>15311</td>\n",
       "      <td>United Kingdom</td>\n",
       "    </tr>\n",
       "    <tr>\n",
       "      <th>235</th>\n",
       "      <td>C536391</td>\n",
       "      <td>22556</td>\n",
       "      <td>PLASTERS IN TIN CIRCUS PARADE</td>\n",
       "      <td>-12</td>\n",
       "      <td>2010-12-01 10:24:00</td>\n",
       "      <td>1.65</td>\n",
       "      <td>17548</td>\n",
       "      <td>United Kingdom</td>\n",
       "    </tr>\n",
       "    <tr>\n",
       "      <th>236</th>\n",
       "      <td>C536391</td>\n",
       "      <td>21984</td>\n",
       "      <td>PACK OF 12 PINK PAISLEY TISSUES</td>\n",
       "      <td>-24</td>\n",
       "      <td>2010-12-01 10:24:00</td>\n",
       "      <td>0.29</td>\n",
       "      <td>17548</td>\n",
       "      <td>United Kingdom</td>\n",
       "    </tr>\n",
       "    <tr>\n",
       "      <th>237</th>\n",
       "      <td>C536391</td>\n",
       "      <td>21983</td>\n",
       "      <td>PACK OF 12 BLUE PAISLEY TISSUES</td>\n",
       "      <td>-24</td>\n",
       "      <td>2010-12-01 10:24:00</td>\n",
       "      <td>0.29</td>\n",
       "      <td>17548</td>\n",
       "      <td>United Kingdom</td>\n",
       "    </tr>\n",
       "  </tbody>\n",
       "</table>\n",
       "</div>"
      ],
      "text/plain": [
       "    InvoiceNo StockCode                       Description  Quantity  \\\n",
       "141   C536379         D                          Discount        -1   \n",
       "154   C536383    35004C   SET OF 3 COLOURED  FLYING DUCKS        -1   \n",
       "235   C536391     22556    PLASTERS IN TIN CIRCUS PARADE        -12   \n",
       "236   C536391     21984  PACK OF 12 PINK PAISLEY TISSUES        -24   \n",
       "237   C536391     21983  PACK OF 12 BLUE PAISLEY TISSUES        -24   \n",
       "\n",
       "            InvoiceDate  UnitPrice CustomerID         Country  \n",
       "141 2010-12-01 09:41:00      27.50      14527  United Kingdom  \n",
       "154 2010-12-01 09:49:00       4.65      15311  United Kingdom  \n",
       "235 2010-12-01 10:24:00       1.65      17548  United Kingdom  \n",
       "236 2010-12-01 10:24:00       0.29      17548  United Kingdom  \n",
       "237 2010-12-01 10:24:00       0.29      17548  United Kingdom  "
      ]
     },
     "execution_count": 12,
     "metadata": {},
     "output_type": "execute_result"
    }
   ],
   "source": [
    "long_invoice_no = df_raw[df_raw[\"InvoiceNo\"].apply(lambda l: len(l)) != 6]\n",
    "long_invoice_no.head()"
   ]
  },
  {
   "cell_type": "markdown",
   "metadata": {
    "pycharm": {
     "name": "#%% md\n"
    }
   },
   "source": [
    "Note: 发现C开头的订单都是退货的信息，这不是我们目前想要深入了解的，目前我们先专注于购买订单，因此把这里的8905条退货数据删除。"
   ]
  },
  {
   "cell_type": "code",
   "execution_count": 13,
   "metadata": {
    "pycharm": {
     "name": "#%%\n"
    }
   },
   "outputs": [
    {
     "data": {
      "text/plain": [
       "397924"
      ]
     },
     "execution_count": 13,
     "metadata": {},
     "output_type": "execute_result"
    }
   ],
   "source": [
    "df_cleaned = df_raw.loc[df_raw[\"InvoiceNo\"].apply(lambda l: l[0] != 'C')]\n",
    "\n",
    "df_cleaned.shape[0]"
   ]
  },
  {
   "cell_type": "code",
   "execution_count": 14,
   "metadata": {
    "pycharm": {
     "name": "#%%\n"
    }
   },
   "outputs": [
    {
     "data": {
      "text/plain": [
       "85123A    2035\n",
       "22423     1724\n",
       "85099B    1618\n",
       "84879     1408\n",
       "47566     1397\n",
       "          ... \n",
       "90037B       1\n",
       "35597B       1\n",
       "22034        1\n",
       "20892        1\n",
       "84227        1\n",
       "Name: StockCode, Length: 3665, dtype: int64"
      ]
     },
     "execution_count": 14,
     "metadata": {},
     "output_type": "execute_result"
    }
   ],
   "source": [
    "# 接下来看StockCode\n",
    "df_cleaned[\"StockCode\"].value_counts()\n",
    "# 并没有看出什么不对，再看一下长度"
   ]
  },
  {
   "cell_type": "code",
   "execution_count": 15,
   "metadata": {
    "pycharm": {
     "name": "#%%\n"
    }
   },
   "outputs": [
    {
     "data": {
      "text/plain": [
       "5     363119\n",
       "6      32960\n",
       "4       1103\n",
       "7        291\n",
       "1        290\n",
       "2        133\n",
       "3         16\n",
       "12        12\n",
       "Name: StockCode, dtype: int64"
      ]
     },
     "execution_count": 15,
     "metadata": {},
     "output_type": "execute_result"
    }
   ],
   "source": [
    "df_cleaned[\"StockCode\"].apply(lambda l: len(l)).value_counts()\n",
    "# 发现有多种长度的StockCode, 最长的长达12"
   ]
  },
  {
   "cell_type": "code",
   "execution_count": 16,
   "metadata": {
    "pycharm": {
     "name": "#%%\n"
    }
   },
   "outputs": [
    {
     "data": {
      "text/html": [
       "<div>\n",
       "<style scoped>\n",
       "    .dataframe tbody tr th:only-of-type {\n",
       "        vertical-align: middle;\n",
       "    }\n",
       "\n",
       "    .dataframe tbody tr th {\n",
       "        vertical-align: top;\n",
       "    }\n",
       "\n",
       "    .dataframe thead th {\n",
       "        text-align: right;\n",
       "    }\n",
       "</style>\n",
       "<table border=\"1\" class=\"dataframe\">\n",
       "  <thead>\n",
       "    <tr style=\"text-align: right;\">\n",
       "      <th></th>\n",
       "      <th>InvoiceNo</th>\n",
       "      <th>StockCode</th>\n",
       "      <th>Description</th>\n",
       "      <th>Quantity</th>\n",
       "      <th>InvoiceDate</th>\n",
       "      <th>UnitPrice</th>\n",
       "      <th>CustomerID</th>\n",
       "      <th>Country</th>\n",
       "    </tr>\n",
       "  </thead>\n",
       "  <tbody>\n",
       "    <tr>\n",
       "      <th>2239</th>\n",
       "      <td>536569</td>\n",
       "      <td>M</td>\n",
       "      <td>Manual</td>\n",
       "      <td>1</td>\n",
       "      <td>2010-12-01 15:35:00</td>\n",
       "      <td>1.25</td>\n",
       "      <td>16274</td>\n",
       "      <td>United Kingdom</td>\n",
       "    </tr>\n",
       "    <tr>\n",
       "      <th>2250</th>\n",
       "      <td>536569</td>\n",
       "      <td>M</td>\n",
       "      <td>Manual</td>\n",
       "      <td>1</td>\n",
       "      <td>2010-12-01 15:35:00</td>\n",
       "      <td>18.95</td>\n",
       "      <td>16274</td>\n",
       "      <td>United Kingdom</td>\n",
       "    </tr>\n",
       "    <tr>\n",
       "      <th>6798</th>\n",
       "      <td>536981</td>\n",
       "      <td>M</td>\n",
       "      <td>Manual</td>\n",
       "      <td>2</td>\n",
       "      <td>2010-12-03 14:26:00</td>\n",
       "      <td>0.85</td>\n",
       "      <td>14723</td>\n",
       "      <td>United Kingdom</td>\n",
       "    </tr>\n",
       "  </tbody>\n",
       "</table>\n",
       "</div>"
      ],
      "text/plain": [
       "     InvoiceNo StockCode Description  Quantity         InvoiceDate  UnitPrice  \\\n",
       "2239    536569         M      Manual         1 2010-12-01 15:35:00       1.25   \n",
       "2250    536569         M      Manual         1 2010-12-01 15:35:00      18.95   \n",
       "6798    536981         M      Manual         2 2010-12-03 14:26:00       0.85   \n",
       "\n",
       "     CustomerID         Country  \n",
       "2239      16274  United Kingdom  \n",
       "2250      16274  United Kingdom  \n",
       "6798      14723  United Kingdom  "
      ]
     },
     "metadata": {},
     "output_type": "display_data"
    }
   ],
   "source": [
    "StockCode_length = df_cleaned[\"StockCode\"].apply(lambda l: len(l))\n",
    "display(df_cleaned[StockCode_length == 1].head(3))"
   ]
  },
  {
   "cell_type": "code",
   "execution_count": 17,
   "metadata": {
    "pycharm": {
     "name": "#%%\n"
    }
   },
   "outputs": [
    {
     "name": "stdout",
     "output_type": "stream",
     "text": [
      "Manual    290\n",
      "Name: Description, dtype: int64\n",
      "CARRIAGE    133\n",
      "Name: Description, dtype: int64\n",
      "DOTCOM POSTAGE    16\n",
      "Name: Description, dtype: int64\n",
      "POSTAGE                       1099\n",
      "PADS TO MATCH ALL CUSHIONS       4\n",
      "Name: Description, dtype: int64\n",
      "Bank Charges    12\n",
      "Name: Description, dtype: int64\n"
     ]
    }
   ],
   "source": [
    "# 观测特殊StockCode的Description情况\n",
    "for i in [1,2,3,4,12]:\n",
    "    print(df_cleaned[StockCode_length == i].Description.value_counts())"
   ]
  },
  {
   "cell_type": "markdown",
   "metadata": {
    "pycharm": {
     "name": "#%% md\n"
    }
   },
   "source": [
    "Note: 发现当StockCode为1、2、3、4、12时Description分别为Manual、CARRIAGE、DOTCOM POSTAGE、POSTAGE、Bank Charges。这些运费等附加费用不是我们的主要盈利来源，所以我们先不需要这些信息，一并删除。"
   ]
  },
  {
   "cell_type": "code",
   "execution_count": 18,
   "metadata": {
    "pycharm": {
     "name": "#%%\n"
    }
   },
   "outputs": [],
   "source": [
    "df_cleaned = df_cleaned[df_cleaned[\"StockCode\"].apply(lambda l: len(l) in [5,6,7])]"
   ]
  },
  {
   "cell_type": "code",
   "execution_count": 19,
   "metadata": {
    "pycharm": {
     "name": "#%%\n"
    }
   },
   "outputs": [
    {
     "data": {
      "text/plain": [
       "17841    7838\n",
       "14911    5591\n",
       "14096    5095\n",
       "12748    4580\n",
       "14606    2697\n",
       "         ... \n",
       "15313       1\n",
       "17331       1\n",
       "13366       1\n",
       "18184       1\n",
       "13099       1\n",
       "Name: CustomerID, Length: 4335, dtype: int64"
      ]
     },
     "execution_count": 19,
     "metadata": {},
     "output_type": "execute_result"
    }
   ],
   "source": [
    "# 再看CustomerID\n",
    "df_cleaned.CustomerID.value_counts()"
   ]
  },
  {
   "cell_type": "code",
   "execution_count": 20,
   "metadata": {
    "pycharm": {
     "name": "#%%\n"
    }
   },
   "outputs": [
    {
     "data": {
      "text/plain": [
       "5    396370\n",
       "Name: CustomerID, dtype: int64"
      ]
     },
     "execution_count": 20,
     "metadata": {},
     "output_type": "execute_result"
    }
   ],
   "source": [
    "df_cleaned.CustomerID.apply(lambda l: len(l)).value_counts()\n",
    "# 看上去都正常"
   ]
  },
  {
   "cell_type": "code",
   "execution_count": 21,
   "metadata": {
    "pycharm": {
     "name": "#%%\n"
    }
   },
   "outputs": [
    {
     "data": {
      "text/plain": [
       "count    396370.000000\n",
       "mean         13.046474\n",
       "std         180.733597\n",
       "min           1.000000\n",
       "25%           2.000000\n",
       "50%           6.000000\n",
       "75%          12.000000\n",
       "max       80995.000000\n",
       "Name: Quantity, dtype: float64"
      ]
     },
     "metadata": {},
     "output_type": "display_data"
    }
   ],
   "source": [
    "# 再看Quantity\n",
    "display(df_cleaned.Quantity.describe())\n",
    "# 发现极大值是异常点"
   ]
  },
  {
   "cell_type": "code",
   "execution_count": 22,
   "metadata": {
    "pycharm": {
     "name": "#%%\n"
    }
   },
   "outputs": [
    {
     "name": "stdout",
     "output_type": "stream",
     "text": [
      "99%的商品数量控制在(1, 120.0)之间\n"
     ]
    }
   ],
   "source": [
    "quantity_high = np.quantile(df_cleaned.Quantity, 0.99)\n",
    "print(\"99%的商品数量控制在(1, {})之间\".format(quantity_high))"
   ]
  },
  {
   "cell_type": "markdown",
   "metadata": {
    "pycharm": {
     "name": "#%% md\n"
    }
   },
   "source": [
    "Note: 由于Quantity最大值为80995，但百分之99的商品数量在1到120之间，难免让人觉得这些量大的订单是极少数情况。而且我们预测的是大多数用户的购买行为，针对这些极少数情况的数据没有什么利用价值。因此把1-120外的数据删除，留下99%的数据。"
   ]
  },
  {
   "cell_type": "code",
   "execution_count": 23,
   "metadata": {
    "pycharm": {
     "name": "#%%\n"
    }
   },
   "outputs": [
    {
     "data": {
      "text/plain": [
       "392481"
      ]
     },
     "execution_count": 23,
     "metadata": {},
     "output_type": "execute_result"
    }
   ],
   "source": [
    "df_cleaned = df_cleaned.loc[(df_cleaned.Quantity <= 120)]\n",
    "\n",
    "df_cleaned.shape[0]"
   ]
  },
  {
   "cell_type": "code",
   "execution_count": 24,
   "metadata": {
    "pycharm": {
     "name": "#%%\n"
    }
   },
   "outputs": [
    {
     "data": {
      "text/plain": [
       "count    392481.000000\n",
       "mean          2.883001\n",
       "std           4.280902\n",
       "min           0.000000\n",
       "25%           1.250000\n",
       "50%           1.950000\n",
       "75%           3.750000\n",
       "max         649.500000\n",
       "Name: UnitPrice, dtype: float64"
      ]
     },
     "metadata": {},
     "output_type": "display_data"
    },
    {
     "name": "stdout",
     "output_type": "stream",
     "text": [
      "98%的数据在 (0.29, 12.75) 中\n"
     ]
    }
   ],
   "source": [
    "# 再看UnitPrice\n",
    "display(df_cleaned.UnitPrice.describe())\n",
    "# 发现居然单价最小值有0\n",
    "\n",
    "UnitPrice_high = np.quantile(df_cleaned.UnitPrice, 0.99)\n",
    "UnitPrice_low = np.quantile(df_cleaned.UnitPrice, 0.01)\n",
    "print(\"98%的数据在\", (UnitPrice_low, UnitPrice_high), \"中\")\n",
    "# 发现极大值太大"
   ]
  },
  {
   "cell_type": "code",
   "execution_count": 25,
   "metadata": {
    "pycharm": {
     "name": "#%%\n"
    }
   },
   "outputs": [
    {
     "data": {
      "text/html": [
       "<div>\n",
       "<style scoped>\n",
       "    .dataframe tbody tr th:only-of-type {\n",
       "        vertical-align: middle;\n",
       "    }\n",
       "\n",
       "    .dataframe tbody tr th {\n",
       "        vertical-align: top;\n",
       "    }\n",
       "\n",
       "    .dataframe thead th {\n",
       "        text-align: right;\n",
       "    }\n",
       "</style>\n",
       "<table border=\"1\" class=\"dataframe\">\n",
       "  <thead>\n",
       "    <tr style=\"text-align: right;\">\n",
       "      <th></th>\n",
       "      <th>9302</th>\n",
       "      <th>33576</th>\n",
       "      <th>40089</th>\n",
       "      <th>47068</th>\n",
       "      <th>47070</th>\n",
       "      <th>56674</th>\n",
       "      <th>86789</th>\n",
       "      <th>130188</th>\n",
       "      <th>139453</th>\n",
       "      <th>145208</th>\n",
       "      <th>...</th>\n",
       "      <th>420404</th>\n",
       "      <th>436597</th>\n",
       "      <th>439361</th>\n",
       "      <th>446125</th>\n",
       "      <th>446793</th>\n",
       "      <th>446794</th>\n",
       "      <th>454463</th>\n",
       "      <th>454464</th>\n",
       "      <th>479079</th>\n",
       "      <th>480649</th>\n",
       "    </tr>\n",
       "  </thead>\n",
       "  <tbody>\n",
       "    <tr>\n",
       "      <th>StockCode</th>\n",
       "      <td>22841</td>\n",
       "      <td>22580</td>\n",
       "      <td>22423</td>\n",
       "      <td>22090</td>\n",
       "      <td>22553</td>\n",
       "      <td>22168</td>\n",
       "      <td>84535B</td>\n",
       "      <td>22062</td>\n",
       "      <td>22055</td>\n",
       "      <td>22162</td>\n",
       "      <td>...</td>\n",
       "      <td>21208</td>\n",
       "      <td>22065</td>\n",
       "      <td>22385</td>\n",
       "      <td>22625</td>\n",
       "      <td>22899</td>\n",
       "      <td>23480</td>\n",
       "      <td>22437</td>\n",
       "      <td>22089</td>\n",
       "      <td>22464</td>\n",
       "      <td>23407</td>\n",
       "    </tr>\n",
       "    <tr>\n",
       "      <th>NewOrNot</th>\n",
       "      <td>False</td>\n",
       "      <td>False</td>\n",
       "      <td>False</td>\n",
       "      <td>False</td>\n",
       "      <td>False</td>\n",
       "      <td>False</td>\n",
       "      <td>False</td>\n",
       "      <td>False</td>\n",
       "      <td>False</td>\n",
       "      <td>False</td>\n",
       "      <td>...</td>\n",
       "      <td>False</td>\n",
       "      <td>False</td>\n",
       "      <td>False</td>\n",
       "      <td>False</td>\n",
       "      <td>False</td>\n",
       "      <td>False</td>\n",
       "      <td>False</td>\n",
       "      <td>False</td>\n",
       "      <td>False</td>\n",
       "      <td>False</td>\n",
       "    </tr>\n",
       "  </tbody>\n",
       "</table>\n",
       "<p>2 rows × 27 columns</p>\n",
       "</div>"
      ],
      "text/plain": [
       "          9302   33576  40089  47068  47070  56674   86789  130188 139453  \\\n",
       "StockCode  22841  22580  22423  22090  22553  22168  84535B  22062  22055   \n",
       "NewOrNot   False  False  False  False  False  False   False  False  False   \n",
       "\n",
       "          145208  ... 420404 436597 439361 446125 446793 446794 454463 454464  \\\n",
       "StockCode  22162  ...  21208  22065  22385  22625  22899  23480  22437  22089   \n",
       "NewOrNot   False  ...  False  False  False  False  False  False  False  False   \n",
       "\n",
       "          479079 480649  \n",
       "StockCode  22464  23407  \n",
       "NewOrNot   False  False  \n",
       "\n",
       "[2 rows x 27 columns]"
      ]
     },
     "metadata": {},
     "output_type": "display_data"
    }
   ],
   "source": [
    "price_notzero = df_cleaned[df_cleaned.UnitPrice != 0][\"StockCode\"].unique()\n",
    "price_zero = pd.DataFrame(df_cleaned[df_cleaned.UnitPrice == 0][\"StockCode\"])\n",
    "price_zero[\"NewOrNot\"] = price_zero[\"StockCode\"].apply(lambda l: l not in price_notzero)\n",
    "display(price_zero.T)\n",
    "# 发现单价为0的商品并不是第一次出现，是否可以借鉴同商品的单价？"
   ]
  },
  {
   "cell_type": "code",
   "execution_count": 26,
   "metadata": {
    "pycharm": {
     "name": "#%%\n"
    }
   },
   "outputs": [
    {
     "name": "stdout",
     "output_type": "stream",
     "text": [
      "7.95     187\n",
      "6.95       9\n",
      "15.79      2\n",
      "5.49       2\n",
      "0.00       1\n",
      "Name: UnitPrice, dtype: int64\n"
     ]
    }
   ],
   "source": [
    "print(df_cleaned[df_cleaned.StockCode == \"22841\"][\"UnitPrice\"].value_counts())\n",
    "# 发现同商品有多个价格"
   ]
  },
  {
   "cell_type": "markdown",
   "metadata": {
    "pycharm": {
     "name": "#%% md\n"
    }
   },
   "source": [
    "Note: 通过分析单价我们发现，单价为0的商品有其他多个价格，因此我们不能直接替换成其他任意价格，或许为0的价格是因为作为附加的礼品赠送的，因此这不是我们盈利的来源，我们把这些数据也删除。"
   ]
  },
  {
   "cell_type": "code",
   "execution_count": 27,
   "metadata": {
    "pycharm": {
     "name": "#%%\n"
    }
   },
   "outputs": [
    {
     "data": {
      "text/plain": [
       "array(['22827', '22655', '22828', '22826', '22656', '22502'], dtype=object)"
      ]
     },
     "metadata": {},
     "output_type": "display_data"
    }
   ],
   "source": [
    "high_price_commerce = df_cleaned[df_cleaned.UnitPrice > 150].StockCode.unique()\n",
    "display(high_price_commerce)"
   ]
  },
  {
   "cell_type": "code",
   "execution_count": 28,
   "metadata": {
    "pycharm": {
     "name": "#%%\n"
    }
   },
   "outputs": [
    {
     "data": {
      "text/html": [
       "<div>\n",
       "<style scoped>\n",
       "    .dataframe tbody tr th:only-of-type {\n",
       "        vertical-align: middle;\n",
       "    }\n",
       "\n",
       "    .dataframe tbody tr th {\n",
       "        vertical-align: top;\n",
       "    }\n",
       "\n",
       "    .dataframe thead th {\n",
       "        text-align: right;\n",
       "    }\n",
       "</style>\n",
       "<table border=\"1\" class=\"dataframe\">\n",
       "  <thead>\n",
       "    <tr style=\"text-align: right;\">\n",
       "      <th></th>\n",
       "      <th></th>\n",
       "      <th>sum</th>\n",
       "      <th>count</th>\n",
       "    </tr>\n",
       "    <tr>\n",
       "      <th>StockCode</th>\n",
       "      <th>UnitPrice</th>\n",
       "      <th></th>\n",
       "      <th></th>\n",
       "    </tr>\n",
       "  </thead>\n",
       "  <tbody>\n",
       "    <tr>\n",
       "      <th rowspan=\"4\" valign=\"top\">22502</th>\n",
       "      <th>2.00</th>\n",
       "      <td>1</td>\n",
       "      <td>1</td>\n",
       "    </tr>\n",
       "    <tr>\n",
       "      <th>4.95</th>\n",
       "      <td>740</td>\n",
       "      <td>29</td>\n",
       "    </tr>\n",
       "    <tr>\n",
       "      <th>5.95</th>\n",
       "      <td>686</td>\n",
       "      <td>207</td>\n",
       "    </tr>\n",
       "    <tr>\n",
       "      <th>649.50</th>\n",
       "      <td>61</td>\n",
       "      <td>2</td>\n",
       "    </tr>\n",
       "    <tr>\n",
       "      <th rowspan=\"3\" valign=\"top\">22655</th>\n",
       "      <th>50.00</th>\n",
       "      <td>3</td>\n",
       "      <td>2</td>\n",
       "    </tr>\n",
       "    <tr>\n",
       "      <th>125.00</th>\n",
       "      <td>52</td>\n",
       "      <td>31</td>\n",
       "    </tr>\n",
       "    <tr>\n",
       "      <th>295.00</th>\n",
       "      <td>5</td>\n",
       "      <td>5</td>\n",
       "    </tr>\n",
       "    <tr>\n",
       "      <th rowspan=\"3\" valign=\"top\">22656</th>\n",
       "      <th>50.00</th>\n",
       "      <td>1</td>\n",
       "      <td>1</td>\n",
       "    </tr>\n",
       "    <tr>\n",
       "      <th>125.00</th>\n",
       "      <td>22</td>\n",
       "      <td>16</td>\n",
       "    </tr>\n",
       "    <tr>\n",
       "      <th>295.00</th>\n",
       "      <td>3</td>\n",
       "      <td>3</td>\n",
       "    </tr>\n",
       "    <tr>\n",
       "      <th rowspan=\"3\" valign=\"top\">22826</th>\n",
       "      <th>85.00</th>\n",
       "      <td>46</td>\n",
       "      <td>30</td>\n",
       "    </tr>\n",
       "    <tr>\n",
       "      <th>175.00</th>\n",
       "      <td>2</td>\n",
       "      <td>1</td>\n",
       "    </tr>\n",
       "    <tr>\n",
       "      <th>195.00</th>\n",
       "      <td>10</td>\n",
       "      <td>10</td>\n",
       "    </tr>\n",
       "    <tr>\n",
       "      <th rowspan=\"2\" valign=\"top\">22827</th>\n",
       "      <th>145.00</th>\n",
       "      <td>18</td>\n",
       "      <td>9</td>\n",
       "    </tr>\n",
       "    <tr>\n",
       "      <th>165.00</th>\n",
       "      <td>17</td>\n",
       "      <td>17</td>\n",
       "    </tr>\n",
       "    <tr>\n",
       "      <th rowspan=\"2\" valign=\"top\">22828</th>\n",
       "      <th>145.00</th>\n",
       "      <td>6</td>\n",
       "      <td>3</td>\n",
       "    </tr>\n",
       "    <tr>\n",
       "      <th>165.00</th>\n",
       "      <td>4</td>\n",
       "      <td>4</td>\n",
       "    </tr>\n",
       "  </tbody>\n",
       "</table>\n",
       "</div>"
      ],
      "text/plain": [
       "                     sum  count\n",
       "StockCode UnitPrice            \n",
       "22502     2.00         1      1\n",
       "          4.95       740     29\n",
       "          5.95       686    207\n",
       "          649.50      61      2\n",
       "22655     50.00        3      2\n",
       "          125.00      52     31\n",
       "          295.00       5      5\n",
       "22656     50.00        1      1\n",
       "          125.00      22     16\n",
       "          295.00       3      3\n",
       "22826     85.00       46     30\n",
       "          175.00       2      1\n",
       "          195.00      10     10\n",
       "22827     145.00      18      9\n",
       "          165.00      17     17\n",
       "22828     145.00       6      3\n",
       "          165.00       4      4"
      ]
     },
     "metadata": {},
     "output_type": "display_data"
    },
    {
     "data": {
      "text/html": [
       "<div>\n",
       "<style scoped>\n",
       "    .dataframe tbody tr th:only-of-type {\n",
       "        vertical-align: middle;\n",
       "    }\n",
       "\n",
       "    .dataframe tbody tr th {\n",
       "        vertical-align: top;\n",
       "    }\n",
       "\n",
       "    .dataframe thead th {\n",
       "        text-align: right;\n",
       "    }\n",
       "</style>\n",
       "<table border=\"1\" class=\"dataframe\">\n",
       "  <thead>\n",
       "    <tr style=\"text-align: right;\">\n",
       "      <th></th>\n",
       "      <th>InvoiceNo</th>\n",
       "      <th>StockCode</th>\n",
       "      <th>Description</th>\n",
       "      <th>Quantity</th>\n",
       "      <th>InvoiceDate</th>\n",
       "      <th>UnitPrice</th>\n",
       "      <th>CustomerID</th>\n",
       "      <th>Country</th>\n",
       "    </tr>\n",
       "  </thead>\n",
       "  <tbody>\n",
       "    <tr>\n",
       "      <th>222680</th>\n",
       "      <td>556444</td>\n",
       "      <td>22502</td>\n",
       "      <td>PICNIC BASKET WICKER 60 PIECES</td>\n",
       "      <td>60</td>\n",
       "      <td>2011-06-10 15:28:00</td>\n",
       "      <td>649.5</td>\n",
       "      <td>15098</td>\n",
       "      <td>United Kingdom</td>\n",
       "    </tr>\n",
       "    <tr>\n",
       "      <th>222682</th>\n",
       "      <td>556446</td>\n",
       "      <td>22502</td>\n",
       "      <td>PICNIC BASKET WICKER 60 PIECES</td>\n",
       "      <td>1</td>\n",
       "      <td>2011-06-10 15:33:00</td>\n",
       "      <td>649.5</td>\n",
       "      <td>15098</td>\n",
       "      <td>United Kingdom</td>\n",
       "    </tr>\n",
       "  </tbody>\n",
       "</table>\n",
       "</div>"
      ],
      "text/plain": [
       "       InvoiceNo StockCode                     Description  Quantity  \\\n",
       "222680    556444     22502  PICNIC BASKET WICKER 60 PIECES        60   \n",
       "222682    556446     22502  PICNIC BASKET WICKER 60 PIECES         1   \n",
       "\n",
       "               InvoiceDate  UnitPrice CustomerID         Country  \n",
       "222680 2011-06-10 15:28:00      649.5      15098  United Kingdom  \n",
       "222682 2011-06-10 15:33:00      649.5      15098  United Kingdom  "
      ]
     },
     "metadata": {},
     "output_type": "display_data"
    }
   ],
   "source": [
    "display(df_cleaned[df_cleaned[\"StockCode\"].map(lambda l: l in high_price_commerce)].groupby([\"StockCode\", \"UnitPrice\"])[\"Quantity\"].agg([\"sum\", \"count\"]))\n",
    "\n",
    "display(df_cleaned[(df_cleaned[\"StockCode\"] == \"22502\") & (df_cleaned[\"UnitPrice\"] - 649.50 == 0)])"
   ]
  },
  {
   "cell_type": "markdown",
   "metadata": {
    "pycharm": {
     "name": "#%% md\n"
    }
   },
   "source": [
    "Note: 看似除了StockCode为22502的商品其他商品单价都很合理。商品22502的单价649.50和它其他的单价相差大，这里这两个订单信息也属于极少数情况，对我们预测大多数用户购买行为没有什么帮助，因此删去。"
   ]
  },
  {
   "cell_type": "code",
   "execution_count": 29,
   "metadata": {
    "pycharm": {
     "name": "#%%\n"
    }
   },
   "outputs": [],
   "source": [
    "df_cleaned = df_cleaned.loc[df_cleaned[\"UnitPrice\"] < 500]"
   ]
  },
  {
   "cell_type": "code",
   "execution_count": 30,
   "metadata": {
    "pycharm": {
     "name": "#%%\n"
    }
   },
   "outputs": [
    {
     "data": {
      "text/plain": [
       "392479"
      ]
     },
     "execution_count": 30,
     "metadata": {},
     "output_type": "execute_result"
    }
   ],
   "source": [
    "df_cleaned.shape[0]"
   ]
  },
  {
   "cell_type": "code",
   "execution_count": 31,
   "metadata": {
    "pycharm": {
     "name": "#%%\n"
    }
   },
   "outputs": [
    {
     "name": "stderr",
     "output_type": "stream",
     "text": [
      "c:\\users\\edwin\\anaconda3\\envs\\e-commerce data\\lib\\site-packages\\ipykernel_launcher.py:2: FutureWarning: Treating datetime data as categorical rather than numeric in `.describe` is deprecated and will be removed in a future version of pandas. Specify `datetime_is_numeric=True` to silence this warning and adopt the future behavior now.\n",
      "  \n"
     ]
    },
    {
     "data": {
      "text/plain": [
       "count                  392479\n",
       "unique                  16833\n",
       "top       2011-11-14 15:27:00\n",
       "freq                      541\n",
       "first     2010-12-01 08:26:00\n",
       "last      2011-12-09 12:50:00\n",
       "Name: InvoiceDate, dtype: object"
      ]
     },
     "execution_count": 31,
     "metadata": {},
     "output_type": "execute_result"
    }
   ],
   "source": [
    "# 对于InvoiceDate\n",
    "df_cleaned[\"InvoiceDate\"].describe()\n",
    "# 挺合理的，时间的跨度是12个月"
   ]
  },
  {
   "cell_type": "code",
   "execution_count": 32,
   "metadata": {
    "pycharm": {
     "name": "#%%\n"
    }
   },
   "outputs": [
    {
     "data": {
      "text/html": [
       "<div>\n",
       "<style scoped>\n",
       "    .dataframe tbody tr th:only-of-type {\n",
       "        vertical-align: middle;\n",
       "    }\n",
       "\n",
       "    .dataframe tbody tr th {\n",
       "        vertical-align: top;\n",
       "    }\n",
       "\n",
       "    .dataframe thead th {\n",
       "        text-align: right;\n",
       "    }\n",
       "</style>\n",
       "<table border=\"1\" class=\"dataframe\">\n",
       "  <thead>\n",
       "    <tr style=\"text-align: right;\">\n",
       "      <th></th>\n",
       "      <th>Total</th>\n",
       "      <th>Rate</th>\n",
       "    </tr>\n",
       "  </thead>\n",
       "  <tbody>\n",
       "    <tr>\n",
       "      <th>United Kingdom</th>\n",
       "      <td>351257</td>\n",
       "      <td>89.50</td>\n",
       "    </tr>\n",
       "    <tr>\n",
       "      <th>Germany</th>\n",
       "      <td>8618</td>\n",
       "      <td>2.20</td>\n",
       "    </tr>\n",
       "    <tr>\n",
       "      <th>France</th>\n",
       "      <td>8005</td>\n",
       "      <td>2.04</td>\n",
       "    </tr>\n",
       "    <tr>\n",
       "      <th>EIRE</th>\n",
       "      <td>6956</td>\n",
       "      <td>1.77</td>\n",
       "    </tr>\n",
       "    <tr>\n",
       "      <th>Spain</th>\n",
       "      <td>2404</td>\n",
       "      <td>0.61</td>\n",
       "    </tr>\n",
       "    <tr>\n",
       "      <th>Belgium</th>\n",
       "      <td>1932</td>\n",
       "      <td>0.49</td>\n",
       "    </tr>\n",
       "    <tr>\n",
       "      <th>Netherlands</th>\n",
       "      <td>1840</td>\n",
       "      <td>0.47</td>\n",
       "    </tr>\n",
       "    <tr>\n",
       "      <th>Switzerland</th>\n",
       "      <td>1808</td>\n",
       "      <td>0.46</td>\n",
       "    </tr>\n",
       "    <tr>\n",
       "      <th>Portugal</th>\n",
       "      <td>1425</td>\n",
       "      <td>0.36</td>\n",
       "    </tr>\n",
       "    <tr>\n",
       "      <th>Norway</th>\n",
       "      <td>1043</td>\n",
       "      <td>0.27</td>\n",
       "    </tr>\n",
       "  </tbody>\n",
       "</table>\n",
       "</div>"
      ],
      "text/plain": [
       "                 Total   Rate\n",
       "United Kingdom  351257  89.50\n",
       "Germany           8618   2.20\n",
       "France            8005   2.04\n",
       "EIRE              6956   1.77\n",
       "Spain             2404   0.61\n",
       "Belgium           1932   0.49\n",
       "Netherlands       1840   0.47\n",
       "Switzerland       1808   0.46\n",
       "Portugal          1425   0.36\n",
       "Norway            1043   0.27"
      ]
     },
     "metadata": {},
     "output_type": "display_data"
    }
   ],
   "source": [
    "# 对于country\n",
    "country_info = pd.DataFrame(df_cleaned.Country.value_counts()).rename(columns={\"Country\": \"Total\"})\n",
    "country_info[\"Rate\"] = (country_info[\"Total\"].map(lambda l: round(l/ df_cleaned.shape[0] * 100, 2)))\n",
    "\n",
    "display(country_info.sort_values(by=\"Rate\", ascending=False).iloc[0:10])"
   ]
  },
  {
   "cell_type": "markdown",
   "metadata": {
    "pycharm": {
     "name": "#%% md\n"
    }
   },
   "source": [
    "Note: 可以看到接近90%的数据来自英国。"
   ]
  },
  {
   "cell_type": "code",
   "execution_count": 33,
   "metadata": {
    "pycharm": {
     "name": "#%% \n"
    }
   },
   "outputs": [
    {
     "data": {
      "text/plain": [
       "WHITE HANGING HEART T-LIGHT HOLDER    1991\n",
       "REGENCY CAKESTAND 3 TIER              1717\n",
       "JUMBO BAG RED RETROSPOT               1560\n",
       "PARTY BUNTING                         1385\n",
       "ASSORTED COLOUR BIRD ORNAMENT         1355\n",
       "                                      ... \n",
       "KNITTED RABBIT DOLL                      1\n",
       "POLYESTER FILLER PAD 60x40cm             1\n",
       "BAKING MOULD CUPCAKE CHOCOLATE           1\n",
       "NEW BAROQUE B'FLY NECKLACE GREEN         1\n",
       "PACK 4 FLOWER/BUTTERFLY PATCHES          1\n",
       "Name: Description, Length: 3865, dtype: int64"
      ]
     },
     "execution_count": 33,
     "metadata": {},
     "output_type": "execute_result"
    }
   ],
   "source": [
    "# 最后我们查看Description\n",
    "df_cleaned[\"Description\"].value_counts()"
   ]
  },
  {
   "cell_type": "code",
   "execution_count": 34,
   "metadata": {
    "pycharm": {
     "name": "#%%\n"
    }
   },
   "outputs": [
    {
     "data": {
      "text/plain": [
       "(array([ 0,  1,  2,  3,  4,  5,  6,  7,  8,  9, 10, 11, 12, 13, 14, 15, 16,\n",
       "        17, 18, 19]),\n",
       " [Text(0, 0, 'WHITE HANGING HEART T-LIGHT HOLDER'),\n",
       "  Text(1, 0, 'REGENCY CAKESTAND 3 TIER'),\n",
       "  Text(2, 0, 'JUMBO BAG RED RETROSPOT'),\n",
       "  Text(3, 0, 'PARTY BUNTING'),\n",
       "  Text(4, 0, 'ASSORTED COLOUR BIRD ORNAMENT'),\n",
       "  Text(5, 0, 'LUNCH BAG RED RETROSPOT'),\n",
       "  Text(6, 0, 'SET OF 3 CAKE TINS PANTRY DESIGN '),\n",
       "  Text(7, 0, 'LUNCH BAG  BLACK SKULL.'),\n",
       "  Text(8, 0, 'PACK OF 72 RETROSPOT CAKE CASES'),\n",
       "  Text(9, 0, \"PAPER CHAIN KIT 50'S CHRISTMAS \"),\n",
       "  Text(10, 0, 'SPOTTY BUNTING'),\n",
       "  Text(11, 0, 'LUNCH BAG SPACEBOY DESIGN '),\n",
       "  Text(12, 0, 'LUNCH BAG CARS BLUE'),\n",
       "  Text(13, 0, 'NATURAL SLATE HEART CHALKBOARD '),\n",
       "  Text(14, 0, 'HEART OF WICKER SMALL'),\n",
       "  Text(15, 0, 'LUNCH BAG PINK POLKADOT'),\n",
       "  Text(16, 0, 'REX CASH+CARRY JUMBO SHOPPER'),\n",
       "  Text(17, 0, 'LUNCH BAG SUKI DESIGN '),\n",
       "  Text(18, 0, 'ALARM CLOCK BAKELIKE RED '),\n",
       "  Text(19, 0, 'LUNCH BAG APPLE DESIGN')])"
      ]
     },
     "execution_count": 34,
     "metadata": {},
     "output_type": "execute_result"
    },
    {
     "data": {
      "image/png": "[encoded data removed]",
      "text/plain": [
       "<Figure size 1440x360 with 1 Axes>"
      ]
     },
     "metadata": {
      "needs_background": "light"
     },
     "output_type": "display_data"
    }
   ],
   "source": [
    "plt.figure(figsize=(20, 5))\n",
    "description_frequency = df_cleaned[\"Description\"].value_counts().sort_values(ascending=False)\n",
    "sns.barplot(description_frequency.iloc[0:20].index, description_frequency.iloc[0:20].values, palette=\"Purples_r\")\n",
    "plt.ylabel(\"频率\", fontproperties=font_set)\n",
    "plt.title(\"各个描述的统计频率\", fontproperties=font_set)\n",
    "plt.xticks(rotation=90)"
   ]
  },
  {
   "cell_type": "markdown",
   "metadata": {
    "pycharm": {
     "name": "#%% md\n"
    }
   },
   "source": [
    "再仔细看一下Description的长度和除字母的统计情况"
   ]
  },
  {
   "cell_type": "code",
   "execution_count": 35,
   "metadata": {
    "pycharm": {
     "name": "#%%\n"
    },
    "scrolled": true
   },
   "outputs": [
    {
     "data": {
      "text/plain": [
       "Text(0.5, 0, 'Description数字数量')"
      ]
     },
     "execution_count": 35,
     "metadata": {},
     "output_type": "execute_result"
    },
    {
     "data": {
      "image/png": "[encoded data removed]",
      "text/plain": [
       "<Figure size 1440x360 with 2 Axes>"
      ]
     },
     "metadata": {
      "needs_background": "light"
     },
     "output_type": "display_data"
    }
   ],
   "source": [
    "description_length = df_cleaned[\"Description\"].apply(lambda l: len(l)).value_counts()\n",
    "description_digits_length = df_cleaned[\"Description\"].apply(lambda l: sum(1 for c in l if c.isdigit())).value_counts()\n",
    "fig, ax = plt.subplots(1, 2, figsize=(20,5))\n",
    "sns.barplot(description_length.index, description_length.values, ax=ax[0], palette=\"Oranges\")\n",
    "ax[0].set_ylabel(\"频率\", fontproperties=font_set)\n",
    "ax[0].set_title(\"Description长度统计\", fontproperties=font_set)\n",
    "ax[0].set_xlabel(\"Description长度\", fontproperties=font_set)\n",
    "sns.barplot(description_digits_length.index, description_digits_length.values, palette=\"Oranges_r\")\n",
    "ax[1].set_ylabel(\"频率\", fontproperties=font_set)\n",
    "ax[1].set_title(\"Description数字数量统计\", fontproperties=font_set)\n",
    "ax[1].set_xlabel(\"Description数字数量\", fontproperties=font_set)"
   ]
  },
  {
   "cell_type": "code",
   "execution_count": 38,
   "metadata": {},
   "outputs": [],
   "source": [
    "# 保存图片\n",
    "path = \"./fig/description_info\"\n",
    "if not os.path.exists(path):\n",
    "    fig.savefig(path, dpi=500, bbox_inches='tight')"
   ]
  },
  {
   "cell_type": "code",
   "execution_count": 34,
   "metadata": {
    "pycharm": {
     "name": "#%%\n"
    }
   },
   "outputs": [
    {
     "data": {
      "text/plain": [
       "(array([ 0,  1,  2,  3,  4,  5,  6,  7,  8,  9, 10, 11, 12, 13, 14, 15]),\n",
       " [Text(0, 0, 'WICKER STAR '),\n",
       "  Text(1, 0, 'BINGO SET'),\n",
       "  Text(2, 0, 'PHOTO CUBE'),\n",
       "  Text(3, 0, 'BUTTON BOX '),\n",
       "  Text(4, 0, 'OWL DOORSTOP'),\n",
       "  Text(5, 0, 'POLKADOT PEN'),\n",
       "  Text(6, 0, 'SOMBRERO '),\n",
       "  Text(7, 0, 'SKULLS TAPE'),\n",
       "  Text(8, 0, 'DOGGY RUBBER'),\n",
       "  Text(9, 0, 'SPACE OWL'),\n",
       "  Text(10, 0, 'CHAMBRE HOOK'),\n",
       "  Text(11, 0, 'FROG CANDLE'),\n",
       "  Text(12, 0, 'SPACE FROG'),\n",
       "  Text(13, 0, 'RAIN PONCHO '),\n",
       "  Text(14, 0, 'GOLD WASHBAG'),\n",
       "  Text(15, 0, 'CORDIAL JUG')])"
      ]
     },
     "execution_count": 34,
     "metadata": {},
     "output_type": "execute_result"
    },
    {
     "data": {
      "image/png": "[encoded data removed]",
      "text/plain": [
       "<Figure size 1440x360 with 1 Axes>"
      ]
     },
     "metadata": {
      "needs_background": "light"
     },
     "output_type": "display_data"
    }
   ],
   "source": [
    "plt.figure(figsize=(20,5))\n",
    "description_less14 = df_cleaned[df_cleaned[\"Description\"].apply(lambda l: len(l) <= 12)].Description.value_counts().sort_values(ascending=False)\n",
    "\n",
    "sns.barplot(description_less14.index, description_less14.values)\n",
    "plt.ylabel(\"频率\", fontproperties=font_set)\n",
    "plt.title(\"长度小于13的Description的统计频率\", fontproperties=font_set)\n",
    "plt.xticks(rotation=90)"
   ]
  },
  {
   "cell_type": "markdown",
   "metadata": {
    "pycharm": {
     "name": "#%% md\n"
    }
   },
   "source": [
    "看上去，长度比较小的Description是没有问题，我们保留这些数据"
   ]
  },
  {
   "cell_type": "code",
   "execution_count": 35,
   "metadata": {
    "pycharm": {
     "name": "#%%\n"
    }
   },
   "outputs": [
    {
     "data": {
      "text/plain": [
       "(array([ 0,  1,  2,  3,  4,  5,  6,  7,  8,  9, 10, 11, 12, 13, 14, 15, 16,\n",
       "        17, 18, 19, 20, 21, 22, 23, 24, 25, 26]),\n",
       " [Text(0, 0, \"BOX OF 6 MINI 50'S CRACKERS\"),\n",
       "  Text(1, 0, \"6 GIFT TAGS 50'S CHRISTMAS \"),\n",
       "  Text(2, 0, 'BAG 125g SWIRLY MARBLES'),\n",
       "  Text(3, 0, '15CM CHRISTMAS GLASS BALL 20 LIGHTS'),\n",
       "  Text(4, 0, 'BAG 250g SWIRLY MARBLES'),\n",
       "  Text(5, 0, 'POLYESTER FILLER PAD 40x40cm'),\n",
       "  Text(6, 0, \"PACK OF 12 50'S CHRISTMAS TISSUES\"),\n",
       "  Text(7, 0, \"3 RAFFIA RIBBONS 50'S CHRISTMAS \"),\n",
       "  Text(8, 0, 'POLYESTER FILLER PAD 45x45cm'),\n",
       "  Text(9, 0, '200 RED + WHITE BENDY STRAWS'),\n",
       "  Text(10, 0, 'BAG 500g SWIRLY MARBLES'),\n",
       "  Text(11, 0, '200 BENDY SKULL STRAWS'),\n",
       "  Text(12, 0, 'POLYESTER FILLER PAD 45x30cm'),\n",
       "  Text(13, 0, 'POLYESTER FILLER PAD 30CMx30CM'),\n",
       "  Text(14, 0, 'BLACK CHRISTMAS TREE 120CM'),\n",
       "  Text(15, 0, 'PINK AND WHITE CHRISTMAS TREE 120CM'),\n",
       "  Text(16, 0, '50CM METAL STRING WITH  7 CLIPS'),\n",
       "  Text(17, 0, 'THE KING GIFT BAG 25x24x12cm'),\n",
       "  Text(18, 0, 'PAPER LANTERN 5 POINT STAR MOON 30'),\n",
       "  Text(19, 0, 'POLYESTER FILLER PAD 65CMx65CM'),\n",
       "  Text(20, 0, 'BLUE CHECK BAG W HANDLE 34X20CM'),\n",
       "  Text(21, 0, 'PAPER LANTERN 9 POINT HOLLY STAR 23'),\n",
       "  Text(22, 0, 'PAPER LANTERN 9 POINT HOLLY STAR 40'),\n",
       "  Text(23, 0, 'ROSE FLOWER CANDLE+INCENSE 16X16CM'),\n",
       "  Text(24, 0, 'MAXWELL 2 TONE BLUE 60 PAGE PHOTO A'),\n",
       "  Text(25, 0, 'SET 10 CARDS HANGING BAUBLES 17080'),\n",
       "  Text(26, 0, 'POLYESTER FILLER PAD 60x40cm')])"
      ]
     },
     "execution_count": 35,
     "metadata": {},
     "output_type": "execute_result"
    },
    {
     "data": {
      "image/png": "[encoded data removed]",
      "text/plain": [
       "<Figure size 1440x360 with 1 Axes>"
      ]
     },
     "metadata": {
      "needs_background": "light"
     },
     "output_type": "display_data"
    }
   ],
   "source": [
    "plt.figure(figsize=(20,5))\n",
    "description_digit = df_cleaned[df_cleaned[\"Description\"].apply(lambda l: sum(1 for c in l if c.isdigit()) in [3,4,5,6,7])].Description.value_counts().sort_values(ascending=False)\n",
    "\n",
    "sns.barplot(description_digit.index, description_digit.values, palette=\"Blues_r\")\n",
    "plt.ylabel(\"频率\", fontproperties=font_set)\n",
    "plt.xlabel(\"数字数量\", fontproperties=font_set)\n",
    "plt.title(\"数字数量大于2的Description的统计频率\", fontproperties=font_set)\n",
    "plt.xticks(rotation=90)"
   ]
  },
  {
   "cell_type": "markdown",
   "metadata": {},
   "source": [
    "看上去，数字数量多的的Description也是没有问题，我们不做处理"
   ]
  },
  {
   "cell_type": "markdown",
   "metadata": {
    "pycharm": {
     "name": "#%% md\n"
    }
   },
   "source": [
    "## 1.2 EDA\n",
    "这部分主要对主要特征进行探索性分析。\n",
    "### 1.2.1 用户角度"
   ]
  },
  {
   "cell_type": "code",
   "execution_count": 36,
   "metadata": {
    "pycharm": {
     "name": "#%%\n"
    }
   },
   "outputs": [
    {
     "data": {
      "text/html": [
       "<div>\n",
       "<style scoped>\n",
       "    .dataframe tbody tr th:only-of-type {\n",
       "        vertical-align: middle;\n",
       "    }\n",
       "\n",
       "    .dataframe tbody tr th {\n",
       "        vertical-align: top;\n",
       "    }\n",
       "\n",
       "    .dataframe thead th {\n",
       "        text-align: right;\n",
       "    }\n",
       "</style>\n",
       "<table border=\"1\" class=\"dataframe\">\n",
       "  <thead>\n",
       "    <tr style=\"text-align: right;\">\n",
       "      <th></th>\n",
       "      <th>InvoiceNo</th>\n",
       "      <th>StockCode</th>\n",
       "      <th>Description</th>\n",
       "      <th>Quantity</th>\n",
       "      <th>InvoiceDate</th>\n",
       "      <th>UnitPrice</th>\n",
       "      <th>CustomerID</th>\n",
       "      <th>Country</th>\n",
       "    </tr>\n",
       "  </thead>\n",
       "  <tbody>\n",
       "    <tr>\n",
       "      <th>0</th>\n",
       "      <td>536365</td>\n",
       "      <td>85123A</td>\n",
       "      <td>WHITE HANGING HEART T-LIGHT HOLDER</td>\n",
       "      <td>6</td>\n",
       "      <td>2010-12-01 08:26:00</td>\n",
       "      <td>2.55</td>\n",
       "      <td>17850</td>\n",
       "      <td>United Kingdom</td>\n",
       "    </tr>\n",
       "    <tr>\n",
       "      <th>1</th>\n",
       "      <td>536365</td>\n",
       "      <td>71053</td>\n",
       "      <td>WHITE METAL LANTERN</td>\n",
       "      <td>6</td>\n",
       "      <td>2010-12-01 08:26:00</td>\n",
       "      <td>3.39</td>\n",
       "      <td>17850</td>\n",
       "      <td>United Kingdom</td>\n",
       "    </tr>\n",
       "    <tr>\n",
       "      <th>2</th>\n",
       "      <td>536365</td>\n",
       "      <td>84406B</td>\n",
       "      <td>CREAM CUPID HEARTS COAT HANGER</td>\n",
       "      <td>8</td>\n",
       "      <td>2010-12-01 08:26:00</td>\n",
       "      <td>2.75</td>\n",
       "      <td>17850</td>\n",
       "      <td>United Kingdom</td>\n",
       "    </tr>\n",
       "    <tr>\n",
       "      <th>3</th>\n",
       "      <td>536365</td>\n",
       "      <td>84029G</td>\n",
       "      <td>KNITTED UNION FLAG HOT WATER BOTTLE</td>\n",
       "      <td>6</td>\n",
       "      <td>2010-12-01 08:26:00</td>\n",
       "      <td>3.39</td>\n",
       "      <td>17850</td>\n",
       "      <td>United Kingdom</td>\n",
       "    </tr>\n",
       "    <tr>\n",
       "      <th>4</th>\n",
       "      <td>536365</td>\n",
       "      <td>84029E</td>\n",
       "      <td>RED WOOLLY HOTTIE WHITE HEART.</td>\n",
       "      <td>6</td>\n",
       "      <td>2010-12-01 08:26:00</td>\n",
       "      <td>3.39</td>\n",
       "      <td>17850</td>\n",
       "      <td>United Kingdom</td>\n",
       "    </tr>\n",
       "  </tbody>\n",
       "</table>\n",
       "</div>"
      ],
      "text/plain": [
       "  InvoiceNo StockCode                          Description  Quantity  \\\n",
       "0    536365    85123A   WHITE HANGING HEART T-LIGHT HOLDER         6   \n",
       "1    536365     71053                  WHITE METAL LANTERN         6   \n",
       "2    536365    84406B       CREAM CUPID HEARTS COAT HANGER         8   \n",
       "3    536365    84029G  KNITTED UNION FLAG HOT WATER BOTTLE         6   \n",
       "4    536365    84029E       RED WOOLLY HOTTIE WHITE HEART.         6   \n",
       "\n",
       "          InvoiceDate  UnitPrice CustomerID         Country  \n",
       "0 2010-12-01 08:26:00       2.55      17850  United Kingdom  \n",
       "1 2010-12-01 08:26:00       3.39      17850  United Kingdom  \n",
       "2 2010-12-01 08:26:00       2.75      17850  United Kingdom  \n",
       "3 2010-12-01 08:26:00       3.39      17850  United Kingdom  \n",
       "4 2010-12-01 08:26:00       3.39      17850  United Kingdom  "
      ]
     },
     "execution_count": 36,
     "metadata": {},
     "output_type": "execute_result"
    }
   ],
   "source": [
    "df_cleaned.head()"
   ]
  },
  {
   "cell_type": "code",
   "execution_count": 39,
   "metadata": {
    "pycharm": {
     "name": "#%%\n"
    },
    "scrolled": true
   },
   "outputs": [
    {
     "name": "stdout",
     "output_type": "stream",
     "text": [
      "单个订单的用户占总用户数的 34.84%\n",
      "2个订单的用户占总用户数的 19.29%\n",
      "3个订单的用户占总用户数的 11.43%\n",
      "3个订单以上的用户占总用户数的 34.44%\n",
      "10个订单以上的用户占总用户数的 7.52%\n"
     ]
    },
    {
     "data": {
      "image/png": "[encoded data removed]",
      "text/plain": [
       "<Figure size 1440x360 with 2 Axes>"
      ]
     },
     "metadata": {
      "needs_background": "light"
     },
     "output_type": "display_data"
    }
   ],
   "source": [
    "# 判断新老客户\n",
    "InvoiceNo_each_customer = df_cleaned.groupby([\"CustomerID\"]).InvoiceNo.nunique()\n",
    "fig, ax = plt.subplots(1,2,figsize=(20,5))\n",
    "sns.barplot(InvoiceNo_each_customer.value_counts().index, InvoiceNo_each_customer.value_counts().values, ax=ax[0])\n",
    "sns.distplot(np.log(InvoiceNo_each_customer.values), bins=14, kde=False, ax=ax[1])\n",
    "ax[0].set_ylabel(\"用户数\", fontproperties=font_set)\n",
    "ax[0].set_xlabel(\"购买次数\", fontproperties=font_set)\n",
    "ax[1].set_ylabel(\"用户数\", fontproperties=font_set)\n",
    "ax[1].set_xlabel(\"log-购买次数\", fontproperties=font_set)\n",
    "\n",
    "\n",
    "print(\"单个订单的用户占总用户数的 {}%\".format(round(sum(InvoiceNo_each_customer == 1) / InvoiceNo_each_customer.shape[0] * 100, 2)))\n",
    "print(\"2个订单的用户占总用户数的 {}%\".format(round(sum(InvoiceNo_each_customer == 2) / InvoiceNo_each_customer.shape[0] * 100, 2)))\n",
    "print(\"3个订单的用户占总用户数的 {}%\".format(round(sum(InvoiceNo_each_customer == 3) / InvoiceNo_each_customer.shape[0] * 100, 2)))\n",
    "print(\"3个订单以上的用户占总用户数的 {}%\".format(round(sum(InvoiceNo_each_customer > 3) / InvoiceNo_each_customer.shape[0] * 100, 2)))\n",
    "print(\"10个订单以上的用户占总用户数的 {}%\".format(round(sum(InvoiceNo_each_customer > 10) / InvoiceNo_each_customer.shape[0] * 100, 2)))"
   ]
  },
  {
   "cell_type": "code",
   "execution_count": 40,
   "metadata": {},
   "outputs": [],
   "source": [
    "# 保存图片\n",
    "path = \"./fig/customer_purchase_info\"\n",
    "if not os.path.exists(path):\n",
    "    fig.savefig(path, dpi=500, bbox_inches='tight')"
   ]
  },
  {
   "cell_type": "markdown",
   "metadata": {
    "pycharm": {
     "name": "#%% md\n"
    }
   },
   "source": [
    "由此可见，产生单个订单的新用户占比为1/3。我们的利润主要来源于那2/3的用户，那如何把1/3的新用户尽量多的转化为我们2/3的老用户是我们利润提高的关键点。\n",
    "\n",
    "由此我们可以为接下来预测模型定下一个目标：如何预测一个新用户第一次购买后是否会再次购买。这个指标是有实际意义的，如果我们知道一个新用户在第一次购买后很可能不会再购买，那我们可以针对这部分人采取不同的策略去提高再次购买的可能性，如给予特殊的优惠、第二次半价等。"
   ]
  },
  {
   "cell_type": "markdown",
   "metadata": {
    "pycharm": {
     "name": "#%% md\n"
    }
   },
   "source": [
    "### 1.2.2 商品角度"
   ]
  },
  {
   "cell_type": "code",
   "execution_count": 43,
   "metadata": {
    "pycharm": {
     "name": "#%%\n"
    }
   },
   "outputs": [
    {
     "name": "stdout",
     "output_type": "stream",
     "text": [
      "一共有 3657 种商品\n"
     ]
    }
   ],
   "source": [
    "print(\"一共有\", df_cleaned.StockCode.nunique(), \"种商品\")"
   ]
  },
  {
   "cell_type": "markdown",
   "metadata": {
    "pycharm": {
     "name": "#%% md\n"
    }
   },
   "source": [
    "由于商品种类一共有3657种，把每种商品视为不同种的商品明显是不合理的，例如有些商品只有颜色的差异。因此接下来对商品进行分类。我这里采用了利用商品的Description，对description每一个词进行词根分析，产生一个key为词根，value为词的字典，并以value中最短的词代表这个词根。\n",
    "\n",
    "*Note: 这个方法参考于FabienDaniel的Customer Segmentation中, 链接为https://www.kaggle.com/fabiendaniel/customer-segmentation"
   ]
  },
  {
   "cell_type": "code",
   "execution_count": 44,
   "metadata": {},
   "outputs": [],
   "source": [
    "descriptions_diff = pd.DataFrame(df_cleaned[\"Description\"].unique()).rename(columns={0:\"Description\"})"
   ]
  },
  {
   "cell_type": "code",
   "execution_count": 47,
   "metadata": {
    "pycharm": {
     "name": "#%%\n"
    },
    "scrolled": true
   },
   "outputs": [
    {
     "name": "stdout",
     "output_type": "stream",
     "text": [
      "Number of keywords in variable 'Description': 1475\n"
     ]
    }
   ],
   "source": [
    "keywords, keywords_roots, keywords_select, count_keywords = keywords_inventory(descriptions_diff)"
   ]
  },
  {
   "cell_type": "markdown",
   "metadata": {},
   "source": [
    "*keywords*: 从所有Description中提取的keywords\n",
    "*keywords_roots*: 字典类型，key是词根，value是一个list对应该词根对应的单词\n",
    "*keywords_select*：字典类型，每一个词根选区的代表词，即关键词\n",
    "*count_keywords*: 字典类型，对应每一个关键词出现的次数"
   ]
  },
  {
   "cell_type": "code",
   "execution_count": 48,
   "metadata": {
    "pycharm": {
     "name": "#%%\n"
    }
   },
   "outputs": [],
   "source": [
    "# 字典类型转化为list类型，其中root改为keyword\n",
    "list_products = []\n",
    "for k,v in count_keywords.items():\n",
    "    list_products.append([keywords_select[k],v])\n",
    "list_products.sort(key = lambda x:x[1], reverse = True)"
   ]
  },
  {
   "cell_type": "code",
   "execution_count": 49,
   "metadata": {
    "pycharm": {
     "name": "#%%\n"
    }
   },
   "outputs": [
    {
     "data": {
      "image/png": "[encoded data removed]",
      "text/plain": [
       "<Figure size 504x1800 with 1 Axes>"
      ]
     },
     "metadata": {
      "needs_background": "light"
     },
     "output_type": "display_data"
    }
   ],
   "source": [
    "liste = sorted(list_products, key = lambda x:x[1], reverse = True)\n",
    "\n",
    "plt.rc('font', weight='normal')\n",
    "fig, ax = plt.subplots(figsize=(7, 25))\n",
    "y_axis = [i[1] for i in liste[:125]]\n",
    "x_axis = [k for k,i in enumerate(liste[:125])]\n",
    "x_label = [i[0] for i in liste[:125]]\n",
    "plt.xticks(fontsize = 15)\n",
    "plt.yticks(fontsize = 13)\n",
    "plt.yticks(x_axis, x_label)\n",
    "plt.xlabel(\"Nb. of occurences\", fontsize = 18, labelpad = 10)\n",
    "ax.barh(x_axis, y_axis, align = 'center')\n",
    "ax = plt.gca()\n",
    "ax.invert_yaxis()\n",
    "\n",
    "plt.title(\"Words occurence\",bbox={'facecolor':'k', 'pad':5}, color='w',fontsize = 25)\n",
    "plt.show()"
   ]
  },
  {
   "cell_type": "code",
   "execution_count": 51,
   "metadata": {},
   "outputs": [],
   "source": [
    "# 保存图片\n",
    "path = \"./fig/words_occurance_info\"\n",
    "if not os.path.exists(path):\n",
    "    fig.savefig(path, dpi=500, bbox_inches='tight')"
   ]
  },
  {
   "cell_type": "markdown",
   "metadata": {
    "pycharm": {
     "name": "#%%\n"
    }
   },
   "source": [
    "Note: 发现有一些与类别无关的词，如colour、I等。并发现出现频率过小的词，大部分都没有意义。因此去除掉这两类词，不对分类结果造成影响。这里选取出现次数大于13的词为有效keyword。\n",
    "\n",
    "对于具体的分类过程和结果我们在Step2(Feature Engineering)中探讨。"
   ]
  },
  {
   "cell_type": "code",
   "execution_count": 73,
   "metadata": {},
   "outputs": [
    {
     "name": "stdout",
     "output_type": "stream",
     "text": [
      "有效的keywords数量: 295\n"
     ]
    }
   ],
   "source": [
    "# 清洗keywords\n",
    "list_products_cleaned = []\n",
    "for k,v in count_keywords.items():\n",
    "    word = keywords_select[k]\n",
    "    if word in ['pink', 'blue', 'tag', 'green', 'orange']: continue\n",
    "    if len(word) < 3 or v < 8: continue\n",
    "    if ('+' in word) or ('/' in word): continue\n",
    "    list_products_cleaned.append([word, v])\n",
    "\n",
    "list_products_cleaned.sort(key = lambda x:x[1], reverse = True)\n",
    "print('有效的keywords数量:', len(list_products_cleaned))"
   ]
  },
  {
   "cell_type": "code",
   "execution_count": 74,
   "metadata": {},
   "outputs": [],
   "source": [
    "list_products_cleaned = list(map(lambda l: l[0], list_products_cleaned))"
   ]
  },
  {
   "cell_type": "code",
   "execution_count": 76,
   "metadata": {},
   "outputs": [],
   "source": [
    "# 以下对数据进行保存\n",
    "if not os.path.exists('./temp/cleaned_data.csv'):\n",
    "    df_cleaned.to_csv('./temp/cleaned_data.csv')\n",
    "if not os.path.exists('./temp/keywords.npy'):\n",
    "    np.save('./temp/keywords.npy', list_products_cleaned)"
   ]
  }
 ],
 "metadata": {
  "kernelspec": {
   "display_name": "Python 3",
   "language": "python",
   "name": "python3"
  },
  "language_info": {
   "codemirror_mode": {
    "name": "ipython",
    "version": 3
   },
   "file_extension": ".py",
   "mimetype": "text/x-python",
   "name": "python",
   "nbconvert_exporter": "python",
   "pygments_lexer": "ipython3",
   "version": "3.7.9"
  }
 },
 "nbformat": 4,
 "nbformat_minor": 1
}
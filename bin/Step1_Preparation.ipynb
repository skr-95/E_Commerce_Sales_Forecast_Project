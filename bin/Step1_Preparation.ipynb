{
 "cells": [
  {
   "cell_type": "markdown",
   "metadata": {
    "collapsed": true,
    "pycharm": {
     "name": "#%% md\n"
    }
   },
   "source": [
    "# Step 1: Preparation\n",
    "## 1 ETL\n",
    "### 1.1 读取数据"
   ]
  },
  {
   "cell_type": "code",
   "source": [
    "# 导入modules\n",
    "import pandas as pd\n",
    "import numpy as np\n",
    "import os"
   ],
   "metadata": {
    "collapsed": false,
    "pycharm": {
     "name": "#%%\n"
    }
   },
   "execution_count": 1,
   "outputs": []
  },
  {
   "cell_type": "code",
   "execution_count": 26,
   "outputs": [
    {
     "name": "stdout",
     "output_type": "stream",
     "text": [
      "DataFrame Shape:  (541909, 8)\n"
     ]
    }
   ],
   "source": [
    "from IPython.core.display import display\n",
    "os.listdir('../data')\n",
    "df_raw = pd.read_csv('../data/data.csv', encoding='ISO-8859-1', dtype={'CustomerID': str, 'InvoiceID': str})\n",
    "df_raw[\"InvoiceDate\"] = pd.to_datetime(df_raw[\"InvoiceDate\"])\n",
    "\n",
    "print(\"DataFrame Shape: \", df_raw.shape)"
   ],
   "metadata": {
    "collapsed": false,
    "pycharm": {
     "name": "#%%\n"
    }
   }
  },
  {
   "cell_type": "code",
   "source": [
    "df_raw.head(5)"
   ],
   "metadata": {
    "collapsed": false,
    "pycharm": {
     "name": "#%%\n"
    }
   },
   "execution_count": 27,
   "outputs": [
    {
     "data": {
      "text/plain": "  InvoiceNo StockCode                          Description  Quantity  \\\n0    536365    85123A   WHITE HANGING HEART T-LIGHT HOLDER         6   \n1    536365     71053                  WHITE METAL LANTERN         6   \n2    536365    84406B       CREAM CUPID HEARTS COAT HANGER         8   \n3    536365    84029G  KNITTED UNION FLAG HOT WATER BOTTLE         6   \n4    536365    84029E       RED WOOLLY HOTTIE WHITE HEART.         6   \n\n          InvoiceDate  UnitPrice CustomerID         Country  \n0 2010-12-01 08:26:00       2.55      17850  United Kingdom  \n1 2010-12-01 08:26:00       3.39      17850  United Kingdom  \n2 2010-12-01 08:26:00       2.75      17850  United Kingdom  \n3 2010-12-01 08:26:00       3.39      17850  United Kingdom  \n4 2010-12-01 08:26:00       3.39      17850  United Kingdom  ",
      "text/html": "<div>\n<style scoped>\n    .dataframe tbody tr th:only-of-type {\n        vertical-align: middle;\n    }\n\n    .dataframe tbody tr th {\n        vertical-align: top;\n    }\n\n    .dataframe thead th {\n        text-align: right;\n    }\n</style>\n<table border=\"1\" class=\"dataframe\">\n  <thead>\n    <tr style=\"text-align: right;\">\n      <th></th>\n      <th>InvoiceNo</th>\n      <th>StockCode</th>\n      <th>Description</th>\n      <th>Quantity</th>\n      <th>InvoiceDate</th>\n      <th>UnitPrice</th>\n      <th>CustomerID</th>\n      <th>Country</th>\n    </tr>\n  </thead>\n  <tbody>\n    <tr>\n      <th>0</th>\n      <td>536365</td>\n      <td>85123A</td>\n      <td>WHITE HANGING HEART T-LIGHT HOLDER</td>\n      <td>6</td>\n      <td>2010-12-01 08:26:00</td>\n      <td>2.55</td>\n      <td>17850</td>\n      <td>United Kingdom</td>\n    </tr>\n    <tr>\n      <th>1</th>\n      <td>536365</td>\n      <td>71053</td>\n      <td>WHITE METAL LANTERN</td>\n      <td>6</td>\n      <td>2010-12-01 08:26:00</td>\n      <td>3.39</td>\n      <td>17850</td>\n      <td>United Kingdom</td>\n    </tr>\n    <tr>\n      <th>2</th>\n      <td>536365</td>\n      <td>84406B</td>\n      <td>CREAM CUPID HEARTS COAT HANGER</td>\n      <td>8</td>\n      <td>2010-12-01 08:26:00</td>\n      <td>2.75</td>\n      <td>17850</td>\n      <td>United Kingdom</td>\n    </tr>\n    <tr>\n      <th>3</th>\n      <td>536365</td>\n      <td>84029G</td>\n      <td>KNITTED UNION FLAG HOT WATER BOTTLE</td>\n      <td>6</td>\n      <td>2010-12-01 08:26:00</td>\n      <td>3.39</td>\n      <td>17850</td>\n      <td>United Kingdom</td>\n    </tr>\n    <tr>\n      <th>4</th>\n      <td>536365</td>\n      <td>84029E</td>\n      <td>RED WOOLLY HOTTIE WHITE HEART.</td>\n      <td>6</td>\n      <td>2010-12-01 08:26:00</td>\n      <td>3.39</td>\n      <td>17850</td>\n      <td>United Kingdom</td>\n    </tr>\n  </tbody>\n</table>\n</div>"
     },
     "execution_count": 27,
     "metadata": {},
     "output_type": "execute_result"
    }
   ]
  },
  {
   "cell_type": "markdown",
   "source": [
    "这里对每个变量做一些解释：\n",
    "*InvoiceNo*: 每一笔订单的单号.\n",
    "*StockCode*: 订单中的一种商品编号\n",
    "*Description*: 对这种商品的描述\n",
    "*Quantity*: 在这一订单中这种商品的数量\n",
    "*InvoiceDate*: 每笔订单的发生时间\n",
    "*UnitPrice*: 该商品的单价\n",
    "*CustomerID*: 购买者的用户ID\n",
    "*Country*: 购买用户的国家"
   ],
   "metadata": {
    "collapsed": false,
    "pycharm": {
     "name": "#%% md\n"
    }
   }
  },
  {
   "cell_type": "markdown",
   "source": [
    "### 1.2 数据清洗\n",
    "#### 1.2.1 数据缺失"
   ],
   "metadata": {
    "collapsed": false
   }
  },
  {
   "cell_type": "code",
   "execution_count": 28,
   "outputs": [
    {
     "data": {
      "text/plain": "InvoiceNo           0\nStockCode           0\nDescription      1454\nQuantity            0\nInvoiceDate         0\nUnitPrice           0\nCustomerID     135080\nCountry             0\ndtype: int64"
     },
     "execution_count": 28,
     "metadata": {},
     "output_type": "execute_result"
    }
   ],
   "source": [
    "# 缺失数据数量统计\n",
    "df_raw.isnull().sum()"
   ],
   "metadata": {
    "collapsed": false,
    "pycharm": {
     "name": "#%%\n"
    }
   }
  },
  {
   "cell_type": "code",
   "execution_count": 29,
   "outputs": [
    {
     "data": {
      "text/plain": "                     0\nInvoiceNo     0.000000\nStockCode     0.000000\nDescription   0.268311\nQuantity      0.000000\nInvoiceDate   0.000000\nUnitPrice     0.000000\nCustomerID   24.926694\nCountry       0.000000",
      "text/html": "<div>\n<style scoped>\n    .dataframe tbody tr th:only-of-type {\n        vertical-align: middle;\n    }\n\n    .dataframe tbody tr th {\n        vertical-align: top;\n    }\n\n    .dataframe thead th {\n        text-align: right;\n    }\n</style>\n<table border=\"1\" class=\"dataframe\">\n  <thead>\n    <tr style=\"text-align: right;\">\n      <th></th>\n      <th>0</th>\n    </tr>\n  </thead>\n  <tbody>\n    <tr>\n      <th>InvoiceNo</th>\n      <td>0.000000</td>\n    </tr>\n    <tr>\n      <th>StockCode</th>\n      <td>0.000000</td>\n    </tr>\n    <tr>\n      <th>Description</th>\n      <td>0.268311</td>\n    </tr>\n    <tr>\n      <th>Quantity</th>\n      <td>0.000000</td>\n    </tr>\n    <tr>\n      <th>InvoiceDate</th>\n      <td>0.000000</td>\n    </tr>\n    <tr>\n      <th>UnitPrice</th>\n      <td>0.000000</td>\n    </tr>\n    <tr>\n      <th>CustomerID</th>\n      <td>24.926694</td>\n    </tr>\n    <tr>\n      <th>Country</th>\n      <td>0.000000</td>\n    </tr>\n  </tbody>\n</table>\n</div>"
     },
     "execution_count": 29,
     "metadata": {},
     "output_type": "execute_result"
    }
   ],
   "source": [
    "# 缺失数据占比\n",
    "pd.DataFrame(df_raw.isnull().sum()) / df_raw.shape[0] * 100"
   ],
   "metadata": {
    "collapsed": false,
    "pycharm": {
     "name": "#%%\n"
    }
   }
  },
  {
   "cell_type": "markdown",
   "source": [
    "Note: 观测到这里缺失的顾客ID信息占比近25%！思考这缺失的原因：可能是在该网站上买东西时不需要强制登陆。但我们可以假设这25%不是由那75%的用户产生的（实际中一般有账号的用户买东西时都会登陆），这样不同的用户之间可以看作是独立的，我们就直接删去这些缺失数据！"
   ],
   "metadata": {
    "collapsed": false,
    "pycharm": {
     "name": "#%% md\n"
    }
   }
  },
  {
   "cell_type": "code",
   "source": [
    "df_raw.dropna(axis=0, inplace=True)"
   ],
   "metadata": {
    "collapsed": false,
    "pycharm": {
     "name": "#%%\n"
    }
   },
   "execution_count": 30,
   "outputs": []
  },
  {
   "cell_type": "code",
   "execution_count": 31,
   "outputs": [
    {
     "data": {
      "text/plain": "InvoiceNo      0\nStockCode      0\nDescription    0\nQuantity       0\nInvoiceDate    0\nUnitPrice      0\nCustomerID     0\nCountry        0\ndtype: int64"
     },
     "execution_count": 31,
     "metadata": {},
     "output_type": "execute_result"
    }
   ],
   "source": [
    "df_raw.isnull().sum()"
   ],
   "metadata": {
    "collapsed": false,
    "pycharm": {
     "name": "#%%\n"
    }
   }
  },
  {
   "cell_type": "markdown",
   "source": [
    "删去空的CustomerID的数据后，已经没有空值了。"
   ],
   "metadata": {
    "collapsed": false,
    "pycharm": {
     "name": "#%% md\n"
    }
   }
  },
  {
   "cell_type": "markdown",
   "source": [
    "#### 1.2.2 异常数据"
   ],
   "metadata": {
    "collapsed": false,
    "pycharm": {
     "name": "#%% md\n"
    }
   }
  },
  {
   "cell_type": "code",
   "execution_count": 37,
   "outputs": [
    {
     "data": {
      "text/plain": "576339    542\n579196    533\n580727    529\n578270    442\n573576    435\n567656    421\n567183    399\n575607    377\n571441    364\n570488    353\n572552    352\n568346    335\n547063    294\n569246    285\n562031    277\n554098    264\n543040    259\n570672    259\n569897    239\n572103    223\nName: InvoiceNo, dtype: int64"
     },
     "execution_count": 37,
     "metadata": {},
     "output_type": "execute_result"
    }
   ],
   "source": [
    "# 先看InvoiceNo\n",
    "df_raw[\"InvoiceNo\"].value_counts().iloc[0:20]"
   ],
   "metadata": {
    "collapsed": false,
    "pycharm": {
     "name": "#%%\n"
    }
   }
  },
  {
   "cell_type": "code",
   "execution_count": 38,
   "outputs": [
    {
     "data": {
      "text/plain": "6    397924\n7      8905\nName: InvoiceNo, dtype: int64"
     },
     "execution_count": 38,
     "metadata": {},
     "output_type": "execute_result"
    }
   ],
   "source": [
    "# 观察InvoiceNo的长度\n",
    "df_raw[\"InvoiceNo\"].apply(lambda l: len(l)).value_counts()\n",
    "# 发现还有7位的，接下来仔细看一下"
   ],
   "metadata": {
    "collapsed": false,
    "pycharm": {
     "name": "#%%\n"
    }
   }
  },
  {
   "cell_type": "code",
   "execution_count": 40,
   "outputs": [
    {
     "data": {
      "text/plain": "    InvoiceNo StockCode                       Description  Quantity  \\\n141   C536379         D                          Discount        -1   \n154   C536383    35004C   SET OF 3 COLOURED  FLYING DUCKS        -1   \n235   C536391     22556    PLASTERS IN TIN CIRCUS PARADE        -12   \n236   C536391     21984  PACK OF 12 PINK PAISLEY TISSUES        -24   \n237   C536391     21983  PACK OF 12 BLUE PAISLEY TISSUES        -24   \n\n            InvoiceDate  UnitPrice CustomerID         Country  \n141 2010-12-01 09:41:00      27.50      14527  United Kingdom  \n154 2010-12-01 09:49:00       4.65      15311  United Kingdom  \n235 2010-12-01 10:24:00       1.65      17548  United Kingdom  \n236 2010-12-01 10:24:00       0.29      17548  United Kingdom  \n237 2010-12-01 10:24:00       0.29      17548  United Kingdom  ",
      "text/html": "<div>\n<style scoped>\n    .dataframe tbody tr th:only-of-type {\n        vertical-align: middle;\n    }\n\n    .dataframe tbody tr th {\n        vertical-align: top;\n    }\n\n    .dataframe thead th {\n        text-align: right;\n    }\n</style>\n<table border=\"1\" class=\"dataframe\">\n  <thead>\n    <tr style=\"text-align: right;\">\n      <th></th>\n      <th>InvoiceNo</th>\n      <th>StockCode</th>\n      <th>Description</th>\n      <th>Quantity</th>\n      <th>InvoiceDate</th>\n      <th>UnitPrice</th>\n      <th>CustomerID</th>\n      <th>Country</th>\n    </tr>\n  </thead>\n  <tbody>\n    <tr>\n      <th>141</th>\n      <td>C536379</td>\n      <td>D</td>\n      <td>Discount</td>\n      <td>-1</td>\n      <td>2010-12-01 09:41:00</td>\n      <td>27.50</td>\n      <td>14527</td>\n      <td>United Kingdom</td>\n    </tr>\n    <tr>\n      <th>154</th>\n      <td>C536383</td>\n      <td>35004C</td>\n      <td>SET OF 3 COLOURED  FLYING DUCKS</td>\n      <td>-1</td>\n      <td>2010-12-01 09:49:00</td>\n      <td>4.65</td>\n      <td>15311</td>\n      <td>United Kingdom</td>\n    </tr>\n    <tr>\n      <th>235</th>\n      <td>C536391</td>\n      <td>22556</td>\n      <td>PLASTERS IN TIN CIRCUS PARADE</td>\n      <td>-12</td>\n      <td>2010-12-01 10:24:00</td>\n      <td>1.65</td>\n      <td>17548</td>\n      <td>United Kingdom</td>\n    </tr>\n    <tr>\n      <th>236</th>\n      <td>C536391</td>\n      <td>21984</td>\n      <td>PACK OF 12 PINK PAISLEY TISSUES</td>\n      <td>-24</td>\n      <td>2010-12-01 10:24:00</td>\n      <td>0.29</td>\n      <td>17548</td>\n      <td>United Kingdom</td>\n    </tr>\n    <tr>\n      <th>237</th>\n      <td>C536391</td>\n      <td>21983</td>\n      <td>PACK OF 12 BLUE PAISLEY TISSUES</td>\n      <td>-24</td>\n      <td>2010-12-01 10:24:00</td>\n      <td>0.29</td>\n      <td>17548</td>\n      <td>United Kingdom</td>\n    </tr>\n  </tbody>\n</table>\n</div>"
     },
     "execution_count": 40,
     "metadata": {},
     "output_type": "execute_result"
    }
   ],
   "source": [
    "long_invoice_no = df_raw[df_raw[\"InvoiceNo\"].apply(lambda l: len(l)) != 6]\n",
    "long_invoice_no.head()"
   ],
   "metadata": {
    "collapsed": false,
    "pycharm": {
     "name": "#%%\n"
    }
   }
  },
  {
   "cell_type": "markdown",
   "source": [
    "Note: 发现C开头的订单都是退货的信息，这不是我们目前想要深入了解的，目前我们先专注于购买订单，因此把这里的8905条退货数据删除。"
   ],
   "metadata": {
    "collapsed": false,
    "pycharm": {
     "name": "#%% md\n"
    }
   }
  },
  {
   "cell_type": "code",
   "execution_count": 76,
   "outputs": [
    {
     "data": {
      "text/plain": "397924"
     },
     "execution_count": 76,
     "metadata": {},
     "output_type": "execute_result"
    }
   ],
   "source": [
    "df_cleaned = df_raw.loc[df_raw[\"InvoiceNo\"].apply(lambda l: l[0] != 'C')]\n",
    "\n",
    "df_cleaned.shape[0]"
   ],
   "metadata": {
    "collapsed": false,
    "pycharm": {
     "name": "#%%\n"
    }
   }
  },
  {
   "cell_type": "code",
   "execution_count": 77,
   "outputs": [
    {
     "data": {
      "text/plain": "85123A    2035\n22423     1724\n85099B    1618\n84879     1408\n47566     1397\n          ... \n84613C       1\n21414        1\n84550        1\n90037B       1\n90202A       1\nName: StockCode, Length: 3665, dtype: int64"
     },
     "execution_count": 77,
     "metadata": {},
     "output_type": "execute_result"
    }
   ],
   "source": [
    "# 接下来看StockCode\n",
    "df_cleaned[\"StockCode\"].value_counts()\n",
    "# 并没有看出什么不对，再看一下长度"
   ],
   "metadata": {
    "collapsed": false,
    "pycharm": {
     "name": "#%%\n"
    }
   }
  },
  {
   "cell_type": "code",
   "execution_count": 78,
   "outputs": [
    {
     "data": {
      "text/plain": "5     363119\n6      32960\n4       1103\n7        291\n1        290\n2        133\n3         16\n12        12\nName: StockCode, dtype: int64"
     },
     "execution_count": 78,
     "metadata": {},
     "output_type": "execute_result"
    }
   ],
   "source": [
    "df_cleaned[\"StockCode\"].apply(lambda l: len(l)).value_counts()\n",
    "# 发现有多种长度的StockCode, 最长的长达12"
   ],
   "metadata": {
    "collapsed": false,
    "pycharm": {
     "name": "#%%\n"
    }
   }
  },
  {
   "cell_type": "code",
   "execution_count": 79,
   "outputs": [
    {
     "data": {
      "text/plain": "     InvoiceNo StockCode Description  Quantity         InvoiceDate  UnitPrice  \\\n2239    536569         M      Manual         1 2010-12-01 15:35:00       1.25   \n2250    536569         M      Manual         1 2010-12-01 15:35:00      18.95   \n6798    536981         M      Manual         2 2010-12-03 14:26:00       0.85   \n\n     CustomerID         Country  \n2239      16274  United Kingdom  \n2250      16274  United Kingdom  \n6798      14723  United Kingdom  ",
      "text/html": "<div>\n<style scoped>\n    .dataframe tbody tr th:only-of-type {\n        vertical-align: middle;\n    }\n\n    .dataframe tbody tr th {\n        vertical-align: top;\n    }\n\n    .dataframe thead th {\n        text-align: right;\n    }\n</style>\n<table border=\"1\" class=\"dataframe\">\n  <thead>\n    <tr style=\"text-align: right;\">\n      <th></th>\n      <th>InvoiceNo</th>\n      <th>StockCode</th>\n      <th>Description</th>\n      <th>Quantity</th>\n      <th>InvoiceDate</th>\n      <th>UnitPrice</th>\n      <th>CustomerID</th>\n      <th>Country</th>\n    </tr>\n  </thead>\n  <tbody>\n    <tr>\n      <th>2239</th>\n      <td>536569</td>\n      <td>M</td>\n      <td>Manual</td>\n      <td>1</td>\n      <td>2010-12-01 15:35:00</td>\n      <td>1.25</td>\n      <td>16274</td>\n      <td>United Kingdom</td>\n    </tr>\n    <tr>\n      <th>2250</th>\n      <td>536569</td>\n      <td>M</td>\n      <td>Manual</td>\n      <td>1</td>\n      <td>2010-12-01 15:35:00</td>\n      <td>18.95</td>\n      <td>16274</td>\n      <td>United Kingdom</td>\n    </tr>\n    <tr>\n      <th>6798</th>\n      <td>536981</td>\n      <td>M</td>\n      <td>Manual</td>\n      <td>2</td>\n      <td>2010-12-03 14:26:00</td>\n      <td>0.85</td>\n      <td>14723</td>\n      <td>United Kingdom</td>\n    </tr>\n  </tbody>\n</table>\n</div>"
     },
     "metadata": {},
     "output_type": "display_data"
    }
   ],
   "source": [
    "StockCode_length = df_cleaned[\"StockCode\"].apply(lambda l: len(l))\n",
    "display(df_cleaned[StockCode_length == 1].head(3))"
   ],
   "metadata": {
    "collapsed": false,
    "pycharm": {
     "name": "#%%\n"
    }
   }
  },
  {
   "cell_type": "code",
   "execution_count": 80,
   "outputs": [
    {
     "name": "stdout",
     "output_type": "stream",
     "text": [
      "Manual    290\n",
      "Name: Description, dtype: int64\n",
      "CARRIAGE    133\n",
      "Name: Description, dtype: int64\n",
      "DOTCOM POSTAGE    16\n",
      "Name: Description, dtype: int64\n",
      "POSTAGE                       1099\n",
      "PADS TO MATCH ALL CUSHIONS       4\n",
      "Name: Description, dtype: int64\n",
      "Bank Charges    12\n",
      "Name: Description, dtype: int64\n"
     ]
    }
   ],
   "source": [
    "# 观测特殊StockCode的Description情况\n",
    "for i in [1,2,3,4,12]:\n",
    "    print(df_cleaned[StockCode_length == i].Description.value_counts())"
   ],
   "metadata": {
    "collapsed": false,
    "pycharm": {
     "name": "#%%\n"
    }
   }
  },
  {
   "cell_type": "markdown",
   "source": [
    "Note: 发现当StockCode为1、2、3、4、12时Description分别为Manual、CARRIAGE、DOTCOM POSTAGE、POSTAGE、Bank Charges。这些运费等附加费用不是我们的主要盈利来源，所以我们先不需要这些信息，一并删除。"
   ],
   "metadata": {
    "collapsed": false,
    "pycharm": {
     "name": "#%% md\n"
    }
   }
  },
  {
   "cell_type": "code",
   "execution_count": 81,
   "outputs": [],
   "source": [
    "df_cleaned = df_cleaned[df_cleaned[\"StockCode\"].apply(lambda l: len(l) in [5,6,7])]"
   ],
   "metadata": {
    "collapsed": false,
    "pycharm": {
     "name": "#%%\n"
    }
   }
  },
  {
   "cell_type": "code",
   "execution_count": 86,
   "outputs": [
    {
     "data": {
      "text/plain": "17841    7838\n14911    5591\n14096    5095\n12748    4580\n14606    2697\n         ... \n16323       1\n13302       1\n12814       1\n13106       1\n17752       1\nName: CustomerID, Length: 4335, dtype: int64"
     },
     "execution_count": 86,
     "metadata": {},
     "output_type": "execute_result"
    }
   ],
   "source": [
    "# 再看CustomerID\n",
    "df_cleaned.CustomerID.value_counts()"
   ],
   "metadata": {
    "collapsed": false,
    "pycharm": {
     "name": "#%%\n"
    }
   }
  },
  {
   "cell_type": "code",
   "execution_count": 89,
   "outputs": [
    {
     "data": {
      "text/plain": "5    396370\nName: CustomerID, dtype: int64"
     },
     "execution_count": 89,
     "metadata": {},
     "output_type": "execute_result"
    }
   ],
   "source": [
    "df_cleaned.CustomerID.apply(lambda l: len(l)).value_counts()\n",
    "# 看上去都正常"
   ],
   "metadata": {
    "collapsed": false,
    "pycharm": {
     "name": "#%%\n"
    }
   }
  },
  {
   "cell_type": "code",
   "execution_count": 103,
   "outputs": [
    {
     "data": {
      "text/plain": "count    396370.000000\nmean         13.046474\nstd         180.733597\nmin           1.000000\n25%           2.000000\n50%           6.000000\n75%          12.000000\nmax       80995.000000\nName: Quantity, dtype: float64"
     },
     "metadata": {},
     "output_type": "display_data"
    }
   ],
   "source": [
    "# 再看Quantity\n",
    "display(df_cleaned.Quantity.describe())\n",
    "# 发现极大值是异常点"
   ],
   "metadata": {
    "collapsed": false,
    "pycharm": {
     "name": "#%%\n"
    }
   }
  },
  {
   "cell_type": "code",
   "execution_count": 104,
   "outputs": [
    {
     "name": "stdout",
     "output_type": "stream",
     "text": [
      "99%的商品数量控制在(1, 120.0)之间\n"
     ]
    }
   ],
   "source": [
    "quantity_high = np.quantile(df_cleaned.Quantity, 0.99)\n",
    "print(\"99%的商品数量控制在(1, {})之间\".format(quantity_high))"
   ],
   "metadata": {
    "collapsed": false,
    "pycharm": {
     "name": "#%%\n"
    }
   }
  },
  {
   "cell_type": "markdown",
   "source": [
    "Note: 由于Quantity最大值为80995，但百分之99的商品数量在1到120之间，难免让人觉得这些量大的订单是极少数情况。而且我们预测的是大多数用户的购买行为，针对这些极少数情况的数据没有什么利用价值。因此把1-120外的数据删除，留下99%的数据。"
   ],
   "metadata": {
    "collapsed": false,
    "pycharm": {
     "name": "#%% md\n"
    }
   }
  },
  {
   "cell_type": "code",
   "execution_count": 106,
   "outputs": [
    {
     "data": {
      "text/plain": "392481"
     },
     "execution_count": 106,
     "metadata": {},
     "output_type": "execute_result"
    }
   ],
   "source": [
    "df_cleaned = df_cleaned.loc[(df_cleaned.Quantity <= 120)]\n",
    "\n",
    "df_cleaned.shape[0]"
   ],
   "metadata": {
    "collapsed": false,
    "pycharm": {
     "name": "#%%\n"
    }
   }
  },
  {
   "cell_type": "code",
   "execution_count": 112,
   "outputs": [
    {
     "data": {
      "text/plain": "count    392481.000000\nmean          2.883001\nstd           4.280902\nmin           0.000000\n25%           1.250000\n50%           1.950000\n75%           3.750000\nmax         649.500000\nName: UnitPrice, dtype: float64"
     },
     "metadata": {},
     "output_type": "display_data"
    },
    {
     "name": "stdout",
     "output_type": "stream",
     "text": [
      "98%的数据在 (0.29, 12.75) 中\n"
     ]
    }
   ],
   "source": [
    "# 再看UnitPrice\n",
    "display(df_cleaned.UnitPrice.describe())\n",
    "# 发现居然单价最小值有0\n",
    "\n",
    "UnitPrice_high = np.quantile(df_cleaned.UnitPrice, 0.99)\n",
    "UnitPrice_low = np.quantile(df_cleaned.UnitPrice, 0.01)\n",
    "print(\"98%的数据在\", (UnitPrice_low, UnitPrice_high), \"中\")\n",
    "# 发现极大值太大"
   ],
   "metadata": {
    "collapsed": false,
    "pycharm": {
     "name": "#%%\n"
    }
   }
  },
  {
   "cell_type": "code",
   "source": [
    "price_notzero = df_cleaned[df_cleaned.UnitPrice != 0][\"StockCode\"].unique()\n",
    "price_zero = pd.DataFrame(df_cleaned[df_cleaned.UnitPrice == 0][\"StockCode\"])\n",
    "price_zero[\"NewOrNot\"] = price_zero[\"StockCode\"].apply(lambda l: l not in price_notzero)\n",
    "display(price_zero.T)\n",
    "# 发现单价为0的商品并不是第一次出现，是否可以借鉴同商品的单价？"
   ],
   "metadata": {
    "collapsed": false,
    "pycharm": {
     "name": "#%%\n"
    }
   },
   "execution_count": 155,
   "outputs": [
    {
     "data": {
      "text/plain": "          9302   33576  40089  47068  47070  56674   86789  130188 139453  \\\nStockCode  22841  22580  22423  22090  22553  22168  84535B  22062  22055   \nNewOrNot   False  False  False  False  False  False   False  False  False   \n\n          145208  ... 420404 436597 439361 446125 446793 446794 454463 454464  \\\nStockCode  22162  ...  21208  22065  22385  22625  22899  23480  22437  22089   \nNewOrNot   False  ...  False  False  False  False  False  False  False  False   \n\n          479079 480649  \nStockCode  22464  23407  \nNewOrNot   False  False  \n\n[2 rows x 27 columns]",
      "text/html": "<div>\n<style scoped>\n    .dataframe tbody tr th:only-of-type {\n        vertical-align: middle;\n    }\n\n    .dataframe tbody tr th {\n        vertical-align: top;\n    }\n\n    .dataframe thead th {\n        text-align: right;\n    }\n</style>\n<table border=\"1\" class=\"dataframe\">\n  <thead>\n    <tr style=\"text-align: right;\">\n      <th></th>\n      <th>9302</th>\n      <th>33576</th>\n      <th>40089</th>\n      <th>47068</th>\n      <th>47070</th>\n      <th>56674</th>\n      <th>86789</th>\n      <th>130188</th>\n      <th>139453</th>\n      <th>145208</th>\n      <th>...</th>\n      <th>420404</th>\n      <th>436597</th>\n      <th>439361</th>\n      <th>446125</th>\n      <th>446793</th>\n      <th>446794</th>\n      <th>454463</th>\n      <th>454464</th>\n      <th>479079</th>\n      <th>480649</th>\n    </tr>\n  </thead>\n  <tbody>\n    <tr>\n      <th>StockCode</th>\n      <td>22841</td>\n      <td>22580</td>\n      <td>22423</td>\n      <td>22090</td>\n      <td>22553</td>\n      <td>22168</td>\n      <td>84535B</td>\n      <td>22062</td>\n      <td>22055</td>\n      <td>22162</td>\n      <td>...</td>\n      <td>21208</td>\n      <td>22065</td>\n      <td>22385</td>\n      <td>22625</td>\n      <td>22899</td>\n      <td>23480</td>\n      <td>22437</td>\n      <td>22089</td>\n      <td>22464</td>\n      <td>23407</td>\n    </tr>\n    <tr>\n      <th>NewOrNot</th>\n      <td>False</td>\n      <td>False</td>\n      <td>False</td>\n      <td>False</td>\n      <td>False</td>\n      <td>False</td>\n      <td>False</td>\n      <td>False</td>\n      <td>False</td>\n      <td>False</td>\n      <td>...</td>\n      <td>False</td>\n      <td>False</td>\n      <td>False</td>\n      <td>False</td>\n      <td>False</td>\n      <td>False</td>\n      <td>False</td>\n      <td>False</td>\n      <td>False</td>\n      <td>False</td>\n    </tr>\n  </tbody>\n</table>\n<p>2 rows × 27 columns</p>\n</div>"
     },
     "metadata": {},
     "output_type": "display_data"
    }
   ]
  },
  {
   "cell_type": "code",
   "execution_count": 156,
   "outputs": [
    {
     "name": "stdout",
     "output_type": "stream",
     "text": [
      "7.95     187\n",
      "6.95       9\n",
      "15.79      2\n",
      "5.49       2\n",
      "0.00       1\n",
      "Name: UnitPrice, dtype: int64\n"
     ]
    }
   ],
   "source": [
    "print(df_cleaned[df_cleaned.StockCode == \"22841\"][\"UnitPrice\"].value_counts())\n",
    "# 发现同商品有多个价格"
   ],
   "metadata": {
    "collapsed": false,
    "pycharm": {
     "name": "#%%\n"
    }
   }
  },
  {
   "cell_type": "markdown",
   "source": [
    "Note: 通过分析单价我们发现，单价为0的商品有其他多个价格，因此我们不能直接替换成其他任意价格，或许为0的价格是因为作为附加的礼品赠送的，因此这不是我们盈利的来源，我们把这些数据也删除。"
   ],
   "metadata": {
    "collapsed": false,
    "pycharm": {
     "name": "#%% md\n"
    }
   }
  },
  {
   "cell_type": "code",
   "execution_count": 172,
   "outputs": [
    {
     "data": {
      "text/plain": "array(['22827', '22655', '22828', '22826', '22656', '22502'], dtype=object)"
     },
     "metadata": {},
     "output_type": "display_data"
    }
   ],
   "source": [
    "high_price_commerce = df_cleaned[df_cleaned.UnitPrice > 150].StockCode.unique()\n",
    "display(high_price_commerce)"
   ],
   "metadata": {
    "collapsed": false,
    "pycharm": {
     "name": "#%%\n"
    }
   }
  },
  {
   "cell_type": "code",
   "execution_count": 182,
   "outputs": [
    {
     "data": {
      "text/plain": "                     sum  count\nStockCode UnitPrice            \n22502     2.00         1      1\n          4.95       740     29\n          5.95       686    207\n          649.50      61      2\n22655     50.00        3      2\n          125.00      52     31\n          295.00       5      5\n22656     50.00        1      1\n          125.00      22     16\n          295.00       3      3\n22826     85.00       46     30\n          175.00       2      1\n          195.00      10     10\n22827     145.00      18      9\n          165.00      17     17\n22828     145.00       6      3\n          165.00       4      4",
      "text/html": "<div>\n<style scoped>\n    .dataframe tbody tr th:only-of-type {\n        vertical-align: middle;\n    }\n\n    .dataframe tbody tr th {\n        vertical-align: top;\n    }\n\n    .dataframe thead th {\n        text-align: right;\n    }\n</style>\n<table border=\"1\" class=\"dataframe\">\n  <thead>\n    <tr style=\"text-align: right;\">\n      <th></th>\n      <th></th>\n      <th>sum</th>\n      <th>count</th>\n    </tr>\n    <tr>\n      <th>StockCode</th>\n      <th>UnitPrice</th>\n      <th></th>\n      <th></th>\n    </tr>\n  </thead>\n  <tbody>\n    <tr>\n      <th rowspan=\"4\" valign=\"top\">22502</th>\n      <th>2.00</th>\n      <td>1</td>\n      <td>1</td>\n    </tr>\n    <tr>\n      <th>4.95</th>\n      <td>740</td>\n      <td>29</td>\n    </tr>\n    <tr>\n      <th>5.95</th>\n      <td>686</td>\n      <td>207</td>\n    </tr>\n    <tr>\n      <th>649.50</th>\n      <td>61</td>\n      <td>2</td>\n    </tr>\n    <tr>\n      <th rowspan=\"3\" valign=\"top\">22655</th>\n      <th>50.00</th>\n      <td>3</td>\n      <td>2</td>\n    </tr>\n    <tr>\n      <th>125.00</th>\n      <td>52</td>\n      <td>31</td>\n    </tr>\n    <tr>\n      <th>295.00</th>\n      <td>5</td>\n      <td>5</td>\n    </tr>\n    <tr>\n      <th rowspan=\"3\" valign=\"top\">22656</th>\n      <th>50.00</th>\n      <td>1</td>\n      <td>1</td>\n    </tr>\n    <tr>\n      <th>125.00</th>\n      <td>22</td>\n      <td>16</td>\n    </tr>\n    <tr>\n      <th>295.00</th>\n      <td>3</td>\n      <td>3</td>\n    </tr>\n    <tr>\n      <th rowspan=\"3\" valign=\"top\">22826</th>\n      <th>85.00</th>\n      <td>46</td>\n      <td>30</td>\n    </tr>\n    <tr>\n      <th>175.00</th>\n      <td>2</td>\n      <td>1</td>\n    </tr>\n    <tr>\n      <th>195.00</th>\n      <td>10</td>\n      <td>10</td>\n    </tr>\n    <tr>\n      <th rowspan=\"2\" valign=\"top\">22827</th>\n      <th>145.00</th>\n      <td>18</td>\n      <td>9</td>\n    </tr>\n    <tr>\n      <th>165.00</th>\n      <td>17</td>\n      <td>17</td>\n    </tr>\n    <tr>\n      <th rowspan=\"2\" valign=\"top\">22828</th>\n      <th>145.00</th>\n      <td>6</td>\n      <td>3</td>\n    </tr>\n    <tr>\n      <th>165.00</th>\n      <td>4</td>\n      <td>4</td>\n    </tr>\n  </tbody>\n</table>\n</div>"
     },
     "metadata": {},
     "output_type": "display_data"
    },
    {
     "data": {
      "text/plain": "       InvoiceNo StockCode                     Description  Quantity  \\\n222680    556444     22502  PICNIC BASKET WICKER 60 PIECES        60   \n222682    556446     22502  PICNIC BASKET WICKER 60 PIECES         1   \n\n               InvoiceDate  UnitPrice CustomerID         Country  \n222680 2011-06-10 15:28:00      649.5      15098  United Kingdom  \n222682 2011-06-10 15:33:00      649.5      15098  United Kingdom  ",
      "text/html": "<div>\n<style scoped>\n    .dataframe tbody tr th:only-of-type {\n        vertical-align: middle;\n    }\n\n    .dataframe tbody tr th {\n        vertical-align: top;\n    }\n\n    .dataframe thead th {\n        text-align: right;\n    }\n</style>\n<table border=\"1\" class=\"dataframe\">\n  <thead>\n    <tr style=\"text-align: right;\">\n      <th></th>\n      <th>InvoiceNo</th>\n      <th>StockCode</th>\n      <th>Description</th>\n      <th>Quantity</th>\n      <th>InvoiceDate</th>\n      <th>UnitPrice</th>\n      <th>CustomerID</th>\n      <th>Country</th>\n    </tr>\n  </thead>\n  <tbody>\n    <tr>\n      <th>222680</th>\n      <td>556444</td>\n      <td>22502</td>\n      <td>PICNIC BASKET WICKER 60 PIECES</td>\n      <td>60</td>\n      <td>2011-06-10 15:28:00</td>\n      <td>649.5</td>\n      <td>15098</td>\n      <td>United Kingdom</td>\n    </tr>\n    <tr>\n      <th>222682</th>\n      <td>556446</td>\n      <td>22502</td>\n      <td>PICNIC BASKET WICKER 60 PIECES</td>\n      <td>1</td>\n      <td>2011-06-10 15:33:00</td>\n      <td>649.5</td>\n      <td>15098</td>\n      <td>United Kingdom</td>\n    </tr>\n  </tbody>\n</table>\n</div>"
     },
     "metadata": {},
     "output_type": "display_data"
    }
   ],
   "source": [
    "display(df_cleaned[df_cleaned[\"StockCode\"].map(lambda l: l in high_price_commerce)].groupby([\"StockCode\", \"UnitPrice\"])[\"Quantity\"].agg([\"sum\", \"count\"]))\n",
    "\n",
    "display(df_cleaned[(df_cleaned[\"StockCode\"] == \"22502\") & (df_cleaned[\"UnitPrice\"] - 649.50 == 0)])"
   ],
   "metadata": {
    "collapsed": false,
    "pycharm": {
     "name": "#%%\n"
    }
   }
  },
  {
   "cell_type": "markdown",
   "source": [
    "Note: 看似除了StockCode为22502的商品其他商品单价都很合理。商品22502的单价649.50和它其他的单价相差大，这里这两个订单信息也属于极少数情况，对我们预测大多数用户购买行为没有什么帮助，因此删去。"
   ],
   "metadata": {
    "collapsed": false,
    "pycharm": {
     "name": "#%% md\n"
    }
   }
  },
  {
   "cell_type": "code",
   "execution_count": 183,
   "outputs": [],
   "source": [
    "df_cleaned = df_cleaned.loc[df_cleaned[\"UnitPrice\"] < 500]"
   ],
   "metadata": {
    "collapsed": false,
    "pycharm": {
     "name": "#%%\n"
    }
   }
  },
  {
   "cell_type": "code",
   "execution_count": 184,
   "outputs": [
    {
     "data": {
      "text/plain": "392479"
     },
     "execution_count": 184,
     "metadata": {},
     "output_type": "execute_result"
    }
   ],
   "source": [
    "df_cleaned.shape[0]"
   ],
   "metadata": {
    "collapsed": false,
    "pycharm": {
     "name": "#%%\n"
    }
   }
  },
  {
   "cell_type": "code",
   "execution_count": 186,
   "outputs": [
    {
     "name": "stderr",
     "output_type": "stream",
     "text": [
      "c:\\users\\edwin\\anaconda3\\envs\\e-commerce data\\lib\\site-packages\\ipykernel_launcher.py:3: FutureWarning: Treating datetime data as categorical rather than numeric in `.describe` is deprecated and will be removed in a future version of pandas. Specify `datetime_is_numeric=True` to silence this warning and adopt the future behavior now.\n",
      "  This is separate from the ipykernel package so we can avoid doing imports until\n"
     ]
    },
    {
     "data": {
      "text/plain": "count                  392479\nunique                  16833\ntop       2011-11-14 15:27:00\nfreq                      541\nfirst     2010-12-01 08:26:00\nlast      2011-12-09 12:50:00\nName: InvoiceDate, dtype: object"
     },
     "execution_count": 186,
     "metadata": {},
     "output_type": "execute_result"
    }
   ],
   "source": [
    "# 对于InvoiceDate\n",
    "df_cleaned[\"InvoiceDate\"].describe()\n",
    "# 挺合理的，时间的跨度是12个月"
   ],
   "metadata": {
    "collapsed": false,
    "pycharm": {
     "name": "#%%\n"
    }
   }
  },
  {
   "cell_type": "code",
   "source": [
    "# 对于country\n",
    "country_info = pd.DataFrame(df_cleaned.Country.value_counts()).rename(columns={\"Country\": \"Total\"})\n",
    "country_info[\"Rate\"] = (country_info[\"Total\"].map(lambda l: round(l/ df_cleaned.shape[0] * 100, 2)))\n",
    "\n",
    "display(country_info.sort_values(by=\"Rate\", ascending=False).iloc[0:10])"
   ],
   "metadata": {
    "collapsed": false,
    "pycharm": {
     "name": "#%%\n"
    }
   },
   "execution_count": 223,
   "outputs": [
    {
     "data": {
      "text/plain": "                 Total   Rate\nUnited Kingdom  351257  89.50\nGermany           8618   2.20\nFrance            8005   2.04\nEIRE              6956   1.77\nSpain             2404   0.61\nBelgium           1932   0.49\nNetherlands       1840   0.47\nSwitzerland       1808   0.46\nPortugal          1425   0.36\nNorway            1043   0.27",
      "text/html": "<div>\n<style scoped>\n    .dataframe tbody tr th:only-of-type {\n        vertical-align: middle;\n    }\n\n    .dataframe tbody tr th {\n        vertical-align: top;\n    }\n\n    .dataframe thead th {\n        text-align: right;\n    }\n</style>\n<table border=\"1\" class=\"dataframe\">\n  <thead>\n    <tr style=\"text-align: right;\">\n      <th></th>\n      <th>Total</th>\n      <th>Rate</th>\n    </tr>\n  </thead>\n  <tbody>\n    <tr>\n      <th>United Kingdom</th>\n      <td>351257</td>\n      <td>89.50</td>\n    </tr>\n    <tr>\n      <th>Germany</th>\n      <td>8618</td>\n      <td>2.20</td>\n    </tr>\n    <tr>\n      <th>France</th>\n      <td>8005</td>\n      <td>2.04</td>\n    </tr>\n    <tr>\n      <th>EIRE</th>\n      <td>6956</td>\n      <td>1.77</td>\n    </tr>\n    <tr>\n      <th>Spain</th>\n      <td>2404</td>\n      <td>0.61</td>\n    </tr>\n    <tr>\n      <th>Belgium</th>\n      <td>1932</td>\n      <td>0.49</td>\n    </tr>\n    <tr>\n      <th>Netherlands</th>\n      <td>1840</td>\n      <td>0.47</td>\n    </tr>\n    <tr>\n      <th>Switzerland</th>\n      <td>1808</td>\n      <td>0.46</td>\n    </tr>\n    <tr>\n      <th>Portugal</th>\n      <td>1425</td>\n      <td>0.36</td>\n    </tr>\n    <tr>\n      <th>Norway</th>\n      <td>1043</td>\n      <td>0.27</td>\n    </tr>\n  </tbody>\n</table>\n</div>"
     },
     "metadata": {},
     "output_type": "display_data"
    }
   ]
  },
  {
   "cell_type": "markdown",
   "source": [
    "Note: 可以看到接近90%的数据来自英国。"
   ],
   "metadata": {
    "collapsed": false,
    "pycharm": {
     "name": "#%% md\n"
    }
   }
  },
  {
   "cell_type": "code",
   "execution_count": null,
   "outputs": [],
   "source": [
    "# 最后我们查看Description\n",
    "df_cleaned\n",
    "\n",
    "\n"
   ],
   "metadata": {
    "collapsed": false,
    "pycharm": {
     "name": "#%% \n"
    }
   }
  }
 ],
 "metadata": {
  "kernelspec": {
   "display_name": "Python 3",
   "language": "python",
   "name": "python3"
  },
  "language_info": {
   "codemirror_mode": {
    "name": "ipython",
    "version": 2
   },
   "file_extension": ".py",
   "mimetype": "text/x-python",
   "name": "python",
   "nbconvert_exporter": "python",
   "pygments_lexer": "ipython2",
   "version": "2.7.6"
  }
 },
 "nbformat": 4,
 "nbformat_minor": 0
}